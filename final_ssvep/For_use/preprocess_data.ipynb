{
 "cells": [
  {
   "cell_type": "code",
   "execution_count": 71,
   "metadata": {},
   "outputs": [],
   "source": [
    "import pyxdf\n",
    "import mne\n",
    "import numpy as np\n",
    "import pandas as pd\n",
    "import random"
   ]
  },
  {
   "cell_type": "code",
   "execution_count": 72,
   "metadata": {},
   "outputs": [],
   "source": [
    "# streams มี 2 ช่องที่เป็นข้อมูลเข้ามาคือ 1. time series ที่มาจาก openBCI 2. ข้อมูลของ maekers\n",
    "streams, header = pyxdf.load_xdf(\"C:/Users/Toey/Desktop/data_ssvep/Toey/exp1/block_2.xdf\")"
   ]
  },
  {
   "cell_type": "code",
   "execution_count": 73,
   "metadata": {},
   "outputs": [
    {
     "name": "stdout",
     "output_type": "stream",
     "text": [
      "(8, 229960)\n"
     ]
    }
   ],
   "source": [
    "raw_data = streams[0][\"time_series\"].T #From Steam variable this query is EEG data\n",
    "print(raw_data.shape)"
   ]
  },
  {
   "cell_type": "code",
   "execution_count": 74,
   "metadata": {},
   "outputs": [
    {
     "name": "stdout",
     "output_type": "stream",
     "text": [
      "<RawArray | 8 x 229960 (919.8 s), ~14.0 MB, data loaded>\n"
     ]
    }
   ],
   "source": [
    "channels =['Fz','Cz','P4','Pz','P3','P08','Oz','P07'] #Set your target EEG channel name\n",
    "info = mne.create_info(\n",
    "    ch_names= channels,\n",
    "    ch_types= ['eeg']*len(channels),\n",
    "    sfreq= 250 #OpenBCI Frequency acquistion\n",
    ")\n",
    "# Create MNE rawarray\n",
    "raw_mne = mne.io.RawArray(raw_data, info, verbose=False)\n",
    "print(raw_mne)"
   ]
  },
  {
   "cell_type": "code",
   "execution_count": 75,
   "metadata": {},
   "outputs": [
    {
     "name": "stdout",
     "output_type": "stream",
     "text": [
      "(180,)\n"
     ]
    }
   ],
   "source": [
    "event_index = streams[1][\"time_series\"].T[0] #Get all event marker of experiment \n",
    "#.T คือ transpose array [0] data ใน column 0 ของ streams[1][\"time_series\"]\n",
    "print(event_index.shape)"
   ]
  },
  {
   "cell_type": "code",
   "execution_count": 76,
   "metadata": {},
   "outputs": [
    {
     "name": "stdout",
     "output_type": "stream",
     "text": [
      "(180,)\n"
     ]
    }
   ],
   "source": [
    "event_timestamp = streams[1][\"time_stamps\"].T #Timestamp when event marked\n",
    "# รับเวลาที่ marker นั้นอยู่\n",
    "print(event_timestamp.shape)"
   ]
  },
  {
   "cell_type": "code",
   "execution_count": 77,
   "metadata": {},
   "outputs": [
    {
     "name": "stdout",
     "output_type": "stream",
     "text": [
      "Not setting metadata\n",
      "180 matching events found\n",
      "Applying baseline correction (mode: mean)\n",
      "0 projection items activated\n",
      "Using data from preloaded Raw for 180 events and 3751 original time points ...\n",
      "0 bad epochs dropped\n"
     ]
    }
   ],
   "source": [
    "events = np.column_stack((np.array(event_timestamp, dtype = int),\n",
    "                        np.zeros(len(event_timestamp), dtype = int),\n",
    "                        np.array(event_index, dtype = int)))\n",
    "fre1 = 8\n",
    "fre2 = 10\n",
    "fre3 = 12\n",
    "fre4 = 14\n",
    "events_id = { # Set up your event name\n",
    "     f'natural': 0,\n",
    "     f'Frequency {fre1} Hz': 1,\n",
    "     f'Frequency {fre2} Hz': 2,\n",
    "     f'Frequency {fre3} Hz': 3,\n",
    "     f'Frequency {fre4} Hz': 4,\n",
    "}\n",
    "mne_epochs = mne.Epochs(raw_mne, events, \n",
    "        tmin= -5,     # init timestamp of epoch (0 means trigger timestamp same as event start)\n",
    "        tmax= 10,    # final timestamp (10 means set epoch duration 10 second)\n",
    "        event_id =events_id,\n",
    "        preload = True,\n",
    "        event_repeated='drop',\n",
    "        baseline=(-0.5, 0)\n",
    "    )"
   ]
  },
  {
   "cell_type": "code",
   "execution_count": 78,
   "metadata": {},
   "outputs": [
    {
     "name": "stdout",
     "output_type": "stream",
     "text": [
      "{'natural': 0}\n"
     ]
    }
   ],
   "source": [
    "print(mne_epochs[138].event_id)"
   ]
  },
  {
   "cell_type": "code",
   "execution_count": 79,
   "metadata": {},
   "outputs": [],
   "source": [
    "# สร้าง list เพื่อเก็บ index ของ epoch ที่ต้องการลบ event_id ออก\n",
    "def count_each_class(mne_epochs, num_class):\n",
    "    indices_to_drop = []\n",
    "    num_class = num_class\n",
    "\n",
    "    # Iterate ผ่านทุกๆ epoch\n",
    "    for idx, epoch in enumerate(mne_epochs):\n",
    "        # ตรวจสอบว่า event_id เป็น {'natural': 0} หรือไม่\n",
    "        if mne_epochs.events[idx, -1] == num_class:  # ตรวจสอบ event_id ในข้อมูล events ของ epoch นั้นๆ\n",
    "            # เพิ่ม index ของ epoch ที่ต้องการลบออกใน list\n",
    "            indices_to_drop.append(idx)\n",
    "\n",
    "    # ลบ epoch ที่มี event_id เป็น {'natural': 0} ออกจาก mne_epochs\n",
    "    return indices_to_drop\n",
    "    # mne_epochs.drop(indices_to_drop)\n"
   ]
  },
  {
   "cell_type": "code",
   "execution_count": null,
   "metadata": {},
   "outputs": [],
   "source": []
  },
  {
   "cell_type": "code",
   "execution_count": 80,
   "metadata": {},
   "outputs": [
    {
     "name": "stdout",
     "output_type": "stream",
     "text": [
      "Dropped 80 epochs: 1, 3, 5, 7, 8, 12, 14, 16, 17, 19, 21, 25, 26, 30, 34, 35, 39, 41, 44, 48, 50, 52, 53, 55, 57, 59, 61, 62, 64, 66, 68, 70, 71, 77, 79, 80, 82, 84, 89, 91, 93, 95, 96, 97, 98, 100, 102, 104, 106, 107, 109, 111, 113, 115, 116, 120, 122, 125, 127, 129, 131, 133, 136, 138, 143, 147, 149, 151, 152, 154, 156, 158, 160, 161, 165, 169, 170, 172, 174, 176\n"
     ]
    }
   ],
   "source": [
    "import random\n",
    "\n",
    "def random_drop_to_balance(mne_epochs, class_counts):\n",
    "    # หาจำนวนของ class ที่มีจำนวนน้อยสุด\n",
    "    # print(class_counts)\n",
    "    min_count = min(class_counts)\n",
    "    \n",
    "    # สร้าง list เพื่อเก็บ index ของแต่ละ class\n",
    "    class_indices = [[] for _ in range(len(class_counts))]\n",
    "\n",
    "    # นับ index ของแต่ละ class\n",
    "    for idx, epoch in enumerate(mne_epochs):\n",
    "        event_id = mne_epochs.events[idx, -1]\n",
    "        class_indices[event_id].append(idx)\n",
    "\n",
    "    # สุ่มลำดับ index ของแต่ละ class เพื่อทำการลบ\n",
    "    random_indices_to_drop = []\n",
    "    for indices in class_indices:\n",
    "        # สุ่มลำดับ index ที่ต้องการลบออก\n",
    "        if len(indices) > len(min_count):\n",
    "            random_indices = random.sample(indices, len(indices) - len(min_count))\n",
    "            random_indices_to_drop.extend(random_indices)\n",
    "    \n",
    "    # ลบ epoch ที่ต้องการออกจาก mne_epochs\n",
    "    mne_epochs.drop(random_indices_to_drop)\n",
    "\n",
    "    return random_indices_to_drop\n",
    "\n",
    "# ใช้ฟังก์ชันเพื่อสุ่มลบ index ของแต่ละ class เพื่อให้จำนวนของแต่ละ class เท่ากับ class ที่มีจำนวนน้อยสุด\n",
    "class0 = count_each_class(mne_epochs, 0)\n",
    "class1 = count_each_class(mne_epochs, 1)\n",
    "class2 = count_each_class(mne_epochs, 2)\n",
    "class3 = count_each_class(mne_epochs, 3)\n",
    "class4 = count_each_class(mne_epochs, 4)\n",
    "\n",
    "class_counts = [class0, class1, class2, class3, class4]\n",
    "random_indices_to_drop = random_drop_to_balance(mne_epochs, class_counts)\n",
    "# print(random_indices_to_drop)\n"
   ]
  },
  {
   "cell_type": "code",
   "execution_count": 81,
   "metadata": {},
   "outputs": [
    {
     "data": {
      "text/html": [
       "<table class=\"table table-hover table-striped table-sm table-responsive small\">\n",
       "    <tr>\n",
       "        <th>Number of events</th>\n",
       "        <td>100</td>\n",
       "    </tr>\n",
       "    <tr>\n",
       "        <th>Events</th>\n",
       "        \n",
       "        <td>Frequency 10 Hz: 20<br/>Frequency 12 Hz: 20<br/>Frequency 14 Hz: 20<br/>Frequency 8 Hz: 20<br/>natural: 20</td>\n",
       "        \n",
       "    </tr>\n",
       "    <tr>\n",
       "        <th>Time range</th>\n",
       "        <td>-5.000 – 10.000 s</td>\n",
       "    </tr>\n",
       "    <tr>\n",
       "        <th>Baseline</th>\n",
       "        <td>-0.500 – 0.000 s</td>\n",
       "    </tr>\n",
       "</table>"
      ],
      "text/plain": [
       "<Epochs |  100 events (all good), -5 – 10 s, baseline -0.5 – 0 s, ~22.9 MB, data loaded,\n",
       " 'natural': 20\n",
       " 'Frequency 8 Hz': 20\n",
       " 'Frequency 10 Hz': 20\n",
       " 'Frequency 12 Hz': 20\n",
       " 'Frequency 14 Hz': 20>"
      ]
     },
     "execution_count": 81,
     "metadata": {},
     "output_type": "execute_result"
    }
   ],
   "source": [
    "mne_epochs"
   ]
  },
  {
   "cell_type": "code",
   "execution_count": 82,
   "metadata": {},
   "outputs": [
    {
     "name": "stderr",
     "output_type": "stream",
     "text": [
      "C:\\Users\\Toey\\AppData\\Local\\Temp\\ipykernel_15276\\1290654083.py:1: FutureWarning: The current default of copy=False will change to copy=True in 1.7. Set the value of copy explicitly to avoid this warning\n",
      "  mne_epochs.get_data().shape\n"
     ]
    },
    {
     "data": {
      "text/plain": [
       "(100, 8, 3751)"
      ]
     },
     "execution_count": 82,
     "metadata": {},
     "output_type": "execute_result"
    }
   ],
   "source": [
    "mne_epochs.get_data().shape"
   ]
  },
  {
   "cell_type": "code",
   "execution_count": 83,
   "metadata": {},
   "outputs": [
    {
     "data": {
      "text/html": [
       "<div>\n",
       "<style scoped>\n",
       "    .dataframe tbody tr th:only-of-type {\n",
       "        vertical-align: middle;\n",
       "    }\n",
       "\n",
       "    .dataframe tbody tr th {\n",
       "        vertical-align: top;\n",
       "    }\n",
       "\n",
       "    .dataframe thead th {\n",
       "        text-align: right;\n",
       "    }\n",
       "</style>\n",
       "<table border=\"1\" class=\"dataframe\">\n",
       "  <thead>\n",
       "    <tr style=\"text-align: right;\">\n",
       "      <th></th>\n",
       "      <th>id</th>\n",
       "      <th>time</th>\n",
       "      <th>condition</th>\n",
       "      <th>epoch</th>\n",
       "      <th>Fz</th>\n",
       "      <th>Cz</th>\n",
       "      <th>P4</th>\n",
       "      <th>Pz</th>\n",
       "      <th>P3</th>\n",
       "      <th>P08</th>\n",
       "      <th>Oz</th>\n",
       "      <th>P07</th>\n",
       "    </tr>\n",
       "  </thead>\n",
       "  <tbody>\n",
       "    <tr>\n",
       "      <th>0</th>\n",
       "      <td>0</td>\n",
       "      <td>-5.000</td>\n",
       "      <td>Frequency 8 Hz</td>\n",
       "      <td>0</td>\n",
       "      <td>-6.644051e+08</td>\n",
       "      <td>3.412238e+08</td>\n",
       "      <td>-7.028111e+09</td>\n",
       "      <td>-8.324441e+08</td>\n",
       "      <td>3.788887e+09</td>\n",
       "      <td>-7.457960e+08</td>\n",
       "      <td>-8.307119e+08</td>\n",
       "      <td>-8.082290e+08</td>\n",
       "    </tr>\n",
       "    <tr>\n",
       "      <th>1</th>\n",
       "      <td>1</td>\n",
       "      <td>-4.996</td>\n",
       "      <td>Frequency 8 Hz</td>\n",
       "      <td>0</td>\n",
       "      <td>-6.933474e+07</td>\n",
       "      <td>1.521506e+08</td>\n",
       "      <td>-6.590861e+09</td>\n",
       "      <td>-1.198258e+08</td>\n",
       "      <td>8.993210e+08</td>\n",
       "      <td>-9.189562e+07</td>\n",
       "      <td>-9.270165e+07</td>\n",
       "      <td>-9.038038e+07</td>\n",
       "    </tr>\n",
       "    <tr>\n",
       "      <th>2</th>\n",
       "      <td>2</td>\n",
       "      <td>-4.992</td>\n",
       "      <td>Frequency 8 Hz</td>\n",
       "      <td>0</td>\n",
       "      <td>6.079455e+08</td>\n",
       "      <td>-1.332811e+08</td>\n",
       "      <td>3.015139e+09</td>\n",
       "      <td>6.935095e+08</td>\n",
       "      <td>-2.930002e+09</td>\n",
       "      <td>6.879120e+08</td>\n",
       "      <td>7.356760e+08</td>\n",
       "      <td>7.155791e+08</td>\n",
       "    </tr>\n",
       "    <tr>\n",
       "      <th>3</th>\n",
       "      <td>3</td>\n",
       "      <td>-4.988</td>\n",
       "      <td>Frequency 8 Hz</td>\n",
       "      <td>0</td>\n",
       "      <td>4.591057e+08</td>\n",
       "      <td>-1.257489e+08</td>\n",
       "      <td>7.605389e+09</td>\n",
       "      <td>5.220940e+08</td>\n",
       "      <td>-2.466070e+09</td>\n",
       "      <td>5.432064e+08</td>\n",
       "      <td>5.516987e+08</td>\n",
       "      <td>5.384414e+08</td>\n",
       "    </tr>\n",
       "    <tr>\n",
       "      <th>4</th>\n",
       "      <td>4</td>\n",
       "      <td>-4.984</td>\n",
       "      <td>Frequency 8 Hz</td>\n",
       "      <td>0</td>\n",
       "      <td>-1.531980e+08</td>\n",
       "      <td>1.238527e+08</td>\n",
       "      <td>2.708889e+09</td>\n",
       "      <td>-2.141501e+08</td>\n",
       "      <td>8.791149e+08</td>\n",
       "      <td>-1.544806e+08</td>\n",
       "      <td>-2.062710e+08</td>\n",
       "      <td>-1.936675e+08</td>\n",
       "    </tr>\n",
       "    <tr>\n",
       "      <th>...</th>\n",
       "      <td>...</td>\n",
       "      <td>...</td>\n",
       "      <td>...</td>\n",
       "      <td>...</td>\n",
       "      <td>...</td>\n",
       "      <td>...</td>\n",
       "      <td>...</td>\n",
       "      <td>...</td>\n",
       "      <td>...</td>\n",
       "      <td>...</td>\n",
       "      <td>...</td>\n",
       "      <td>...</td>\n",
       "    </tr>\n",
       "    <tr>\n",
       "      <th>375095</th>\n",
       "      <td>375095</td>\n",
       "      <td>9.984</td>\n",
       "      <td>Frequency 14 Hz</td>\n",
       "      <td>179</td>\n",
       "      <td>-3.079675e+08</td>\n",
       "      <td>4.269578e+06</td>\n",
       "      <td>2.765746e+09</td>\n",
       "      <td>-2.027933e+08</td>\n",
       "      <td>8.387241e+08</td>\n",
       "      <td>-1.627788e+08</td>\n",
       "      <td>-2.201881e+08</td>\n",
       "      <td>-1.990811e+08</td>\n",
       "    </tr>\n",
       "    <tr>\n",
       "      <th>375096</th>\n",
       "      <td>375096</td>\n",
       "      <td>9.988</td>\n",
       "      <td>Frequency 14 Hz</td>\n",
       "      <td>179</td>\n",
       "      <td>-8.165808e+08</td>\n",
       "      <td>2.326153e+08</td>\n",
       "      <td>-7.023254e+09</td>\n",
       "      <td>-8.166839e+08</td>\n",
       "      <td>3.834215e+09</td>\n",
       "      <td>-7.631470e+08</td>\n",
       "      <td>-8.438692e+08</td>\n",
       "      <td>-8.059981e+08</td>\n",
       "    </tr>\n",
       "    <tr>\n",
       "      <th>375097</th>\n",
       "      <td>375097</td>\n",
       "      <td>9.992</td>\n",
       "      <td>Frequency 14 Hz</td>\n",
       "      <td>179</td>\n",
       "      <td>-2.148278e+08</td>\n",
       "      <td>3.086821e+07</td>\n",
       "      <td>-6.564004e+09</td>\n",
       "      <td>-9.615312e+07</td>\n",
       "      <td>8.458989e+08</td>\n",
       "      <td>-1.012002e+08</td>\n",
       "      <td>-9.904161e+07</td>\n",
       "      <td>-8.365675e+07</td>\n",
       "    </tr>\n",
       "    <tr>\n",
       "      <th>375098</th>\n",
       "      <td>375098</td>\n",
       "      <td>9.996</td>\n",
       "      <td>Frequency 14 Hz</td>\n",
       "      <td>179</td>\n",
       "      <td>4.756185e+08</td>\n",
       "      <td>-2.818320e+08</td>\n",
       "      <td>3.231996e+09</td>\n",
       "      <td>7.324260e+08</td>\n",
       "      <td>-3.153096e+09</td>\n",
       "      <td>6.994844e+08</td>\n",
       "      <td>7.481786e+08</td>\n",
       "      <td>7.374126e+08</td>\n",
       "    </tr>\n",
       "    <tr>\n",
       "      <th>375099</th>\n",
       "      <td>375099</td>\n",
       "      <td>10.000</td>\n",
       "      <td>Frequency 14 Hz</td>\n",
       "      <td>179</td>\n",
       "      <td>3.277610e+08</td>\n",
       "      <td>-2.778984e+08</td>\n",
       "      <td>7.925246e+09</td>\n",
       "      <td>5.554226e+08</td>\n",
       "      <td>-2.698596e+09</td>\n",
       "      <td>5.554717e+08</td>\n",
       "      <td>5.615639e+08</td>\n",
       "      <td>5.558047e+08</td>\n",
       "    </tr>\n",
       "  </tbody>\n",
       "</table>\n",
       "<p>375100 rows × 12 columns</p>\n",
       "</div>"
      ],
      "text/plain": [
       "            id    time        condition  epoch            Fz            Cz  \\\n",
       "0            0  -5.000   Frequency 8 Hz      0 -6.644051e+08  3.412238e+08   \n",
       "1            1  -4.996   Frequency 8 Hz      0 -6.933474e+07  1.521506e+08   \n",
       "2            2  -4.992   Frequency 8 Hz      0  6.079455e+08 -1.332811e+08   \n",
       "3            3  -4.988   Frequency 8 Hz      0  4.591057e+08 -1.257489e+08   \n",
       "4            4  -4.984   Frequency 8 Hz      0 -1.531980e+08  1.238527e+08   \n",
       "...        ...     ...              ...    ...           ...           ...   \n",
       "375095  375095   9.984  Frequency 14 Hz    179 -3.079675e+08  4.269578e+06   \n",
       "375096  375096   9.988  Frequency 14 Hz    179 -8.165808e+08  2.326153e+08   \n",
       "375097  375097   9.992  Frequency 14 Hz    179 -2.148278e+08  3.086821e+07   \n",
       "375098  375098   9.996  Frequency 14 Hz    179  4.756185e+08 -2.818320e+08   \n",
       "375099  375099  10.000  Frequency 14 Hz    179  3.277610e+08 -2.778984e+08   \n",
       "\n",
       "                  P4            Pz            P3           P08            Oz  \\\n",
       "0      -7.028111e+09 -8.324441e+08  3.788887e+09 -7.457960e+08 -8.307119e+08   \n",
       "1      -6.590861e+09 -1.198258e+08  8.993210e+08 -9.189562e+07 -9.270165e+07   \n",
       "2       3.015139e+09  6.935095e+08 -2.930002e+09  6.879120e+08  7.356760e+08   \n",
       "3       7.605389e+09  5.220940e+08 -2.466070e+09  5.432064e+08  5.516987e+08   \n",
       "4       2.708889e+09 -2.141501e+08  8.791149e+08 -1.544806e+08 -2.062710e+08   \n",
       "...              ...           ...           ...           ...           ...   \n",
       "375095  2.765746e+09 -2.027933e+08  8.387241e+08 -1.627788e+08 -2.201881e+08   \n",
       "375096 -7.023254e+09 -8.166839e+08  3.834215e+09 -7.631470e+08 -8.438692e+08   \n",
       "375097 -6.564004e+09 -9.615312e+07  8.458989e+08 -1.012002e+08 -9.904161e+07   \n",
       "375098  3.231996e+09  7.324260e+08 -3.153096e+09  6.994844e+08  7.481786e+08   \n",
       "375099  7.925246e+09  5.554226e+08 -2.698596e+09  5.554717e+08  5.615639e+08   \n",
       "\n",
       "                 P07  \n",
       "0      -8.082290e+08  \n",
       "1      -9.038038e+07  \n",
       "2       7.155791e+08  \n",
       "3       5.384414e+08  \n",
       "4      -1.936675e+08  \n",
       "...              ...  \n",
       "375095 -1.990811e+08  \n",
       "375096 -8.059981e+08  \n",
       "375097 -8.365675e+07  \n",
       "375098  7.374126e+08  \n",
       "375099  5.558047e+08  \n",
       "\n",
       "[375100 rows x 12 columns]"
      ]
     },
     "execution_count": 83,
     "metadata": {},
     "output_type": "execute_result"
    }
   ],
   "source": [
    "# dataset = mne_epochs.to_data_frame()\n",
    "# id_df = pd.DataFrame({\"id\": range(len(dataset))})\n",
    "# dataset = pd.concat([id_df,dataset], axis=1)\n",
    "# dataset"
   ]
  },
  {
   "cell_type": "code",
   "execution_count": 84,
   "metadata": {},
   "outputs": [
    {
     "data": {
      "text/plain": [
       "condition\n",
       "Frequency 10 Hz    75020\n",
       "Frequency 12 Hz    75020\n",
       "Frequency 14 Hz    75020\n",
       "Frequency 8 Hz     75020\n",
       "natural            75020\n",
       "dtype: int64"
      ]
     },
     "execution_count": 84,
     "metadata": {},
     "output_type": "execute_result"
    }
   ],
   "source": [
    "# dataset.groupby('condition').size()"
   ]
  },
  {
   "cell_type": "code",
   "execution_count": 96,
   "metadata": {},
   "outputs": [
    {
     "name": "stdout",
     "output_type": "stream",
     "text": [
      "[[-6.64405056e+08  3.41223803e+08 -7.02811111e+09 ... -7.45796015e+08\n",
      "  -8.30711908e+08 -8.08229016e+08]\n",
      " [-6.93347439e+07  1.52150561e+08 -6.59086111e+09 ... -9.18956241e+07\n",
      "  -9.27016543e+07 -9.03803827e+07]\n",
      " [ 6.07945530e+08 -1.33281079e+08  3.01513889e+09 ...  6.87911993e+08\n",
      "   7.35676031e+08  7.15579090e+08]\n",
      " ...\n",
      " [-2.14827823e+08  3.08682106e+07 -6.56400397e+09 ... -1.01200195e+08\n",
      "  -9.90416124e+07 -8.36567538e+07]\n",
      " [ 4.75618466e+08 -2.81831985e+08  3.23199603e+09 ...  6.99484375e+08\n",
      "   7.48178602e+08  7.37412582e+08]\n",
      " [ 3.27761044e+08 -2.77898391e+08  7.92524603e+09 ...  5.55471680e+08\n",
      "   5.61563856e+08  5.55804672e+08]]\n"
     ]
    }
   ],
   "source": [
    "# feature_columns = ['Fz','Cz','P4','Pz','P3','P08','Oz','P07']\n",
    "# x = dataset[feature_columns].values\n",
    "# y = dataset['condition'].values\n",
    "\n",
    "# # print(x)"
   ]
  },
  {
   "cell_type": "code",
   "execution_count": 95,
   "metadata": {},
   "outputs": [
    {
     "name": "stdout",
     "output_type": "stream",
     "text": [
      "[3 3 3 ... 2 2 2]\n"
     ]
    }
   ],
   "source": [
    "from sklearn.preprocessing import LabelEncoder\n",
    "le = LabelEncoder()\n",
    "y = le.fit_transform(y) # แปลงข้อมูลจาก Frequency 10 Hz ไปเป็น 0 1 2 3 4\n",
    "# print(y)"
   ]
  },
  {
   "cell_type": "code",
   "execution_count": 87,
   "metadata": {},
   "outputs": [],
   "source": [
    "from sklearn.model_selection import train_test_split\n",
    "x_train, x_test, y_train, y_test = train_test_split(x, y, test_size = 0.2, random_state = 0)"
   ]
  },
  {
   "cell_type": "code",
   "execution_count": 88,
   "metadata": {},
   "outputs": [
    {
     "name": "stdout",
     "output_type": "stream",
     "text": [
      "Accuracy of our model is equal 3.05 %.\n",
      "[[1701 8702 1996  896 1856]\n",
      " [9490  215 2002 1155 2013]\n",
      " [7164 4648   97  986 2050]\n",
      " [9755 2759 1206    2 1242]\n",
      " [8445 4951 1305  110  274]]\n"
     ]
    }
   ],
   "source": [
    "# Fitting clasifier to the Training set\n",
    "# Loading libraries\n",
    "from sklearn.neighbors import KNeighborsClassifier\n",
    "from sklearn.metrics import confusion_matrix, accuracy_score\n",
    "from sklearn.model_selection import cross_val_score\n",
    "\n",
    "# Instantiate learning model (k = 3)\n",
    "classifier = KNeighborsClassifier(n_neighbors=3)\n",
    "\n",
    "# Fitting the model\n",
    "classifier.fit(x_train, y_train)\n",
    "\n",
    "# Predicting the Test set results\n",
    "y_pred = classifier.predict(x_test)\n",
    "cm = confusion_matrix(y_test, y_pred)\n",
    "accuracy = accuracy_score(y_test, y_pred)*100\n",
    "print('Accuracy of our model is equal ' + str(round(accuracy, 2)) + ' %.')\n",
    "print(cm)"
   ]
  },
  {
   "cell_type": "code",
   "execution_count": null,
   "metadata": {},
   "outputs": [],
   "source": []
  },
  {
   "cell_type": "code",
   "execution_count": null,
   "metadata": {},
   "outputs": [],
   "source": []
  }
 ],
 "metadata": {
  "kernelspec": {
   "display_name": "base",
   "language": "python",
   "name": "python3"
  },
  "language_info": {
   "codemirror_mode": {
    "name": "ipython",
    "version": 3
   },
   "file_extension": ".py",
   "mimetype": "text/x-python",
   "name": "python",
   "nbconvert_exporter": "python",
   "pygments_lexer": "ipython3",
   "version": "3.11.8"
  }
 },
 "nbformat": 4,
 "nbformat_minor": 2
}
