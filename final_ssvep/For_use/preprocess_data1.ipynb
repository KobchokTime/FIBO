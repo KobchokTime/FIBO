{
 "cells": [
  {
   "cell_type": "code",
   "execution_count": 1,
   "metadata": {},
   "outputs": [],
   "source": [
    "import pyxdf\n",
    "import mne\n",
    "import numpy as np\n",
    "import pandas as pd\n",
    "import random"
   ]
  },
  {
   "cell_type": "code",
   "execution_count": 2,
   "metadata": {},
   "outputs": [],
   "source": [
    "# สร้าง list เพื่อเก็บ index ของ epoch ที่ต้องการลบ event_id ออก\n",
    "def count_each_class(mne_epochs, num_class):\n",
    "    indices_to_drop = []\n",
    "    num_class = num_class\n",
    "\n",
    "    # Iterate ผ่านทุกๆ epoch\n",
    "    for idx, epoch in enumerate(mne_epochs):\n",
    "        # ตรวจสอบว่า event_id เป็น {'natural': 0} หรือไม่\n",
    "        if mne_epochs.events[idx, -1] == num_class:  # ตรวจสอบ event_id ในข้อมูล events ของ epoch นั้นๆ\n",
    "            # เพิ่ม index ของ epoch ที่ต้องการลบออกใน list\n",
    "            indices_to_drop.append(idx)\n",
    "\n",
    "    # ลบ epoch ที่มี event_id เป็น {'natural': 0} ออกจาก mne_epochs\n",
    "    return indices_to_drop\n",
    "    # mne_epochs.drop(indices_to_drop)\n"
   ]
  },
  {
   "cell_type": "code",
   "execution_count": 3,
   "metadata": {},
   "outputs": [],
   "source": [
    "import random\n",
    "\n",
    "def random_drop_to_balance(mne_epochs, class_counts):\n",
    "    # หาจำนวนของ class ที่มีจำนวนน้อยสุด\n",
    "    # print(class_counts)\n",
    "    min_count = min(class_counts)\n",
    "    \n",
    "    # สร้าง list เพื่อเก็บ index ของแต่ละ class\n",
    "    class_indices = [[] for _ in range(len(class_counts))]\n",
    "\n",
    "    # นับ index ของแต่ละ class\n",
    "    for idx, epoch in enumerate(mne_epochs):\n",
    "        event_id = mne_epochs.events[idx, -1]\n",
    "        class_indices[event_id].append(idx)\n",
    "\n",
    "    # สุ่มลำดับ index ของแต่ละ class เพื่อทำการลบ\n",
    "    random_indices_to_drop = []\n",
    "    for indices in class_indices:\n",
    "        # สุ่มลำดับ index ที่ต้องการลบออก\n",
    "        if len(indices) > len(min_count):\n",
    "            random_indices = random.sample(indices, len(indices) - len(min_count))\n",
    "            random_indices_to_drop.extend(random_indices)\n",
    "    \n",
    "    # ลบ epoch ที่ต้องการออกจาก mne_epochs\n",
    "    mne_epochs.drop(random_indices_to_drop)\n",
    "\n",
    "    return random_indices_to_drop"
   ]
  },
  {
   "cell_type": "code",
   "execution_count": 4,
   "metadata": {},
   "outputs": [],
   "source": [
    "# streams มี 2 ช่องที่เป็นข้อมูลเข้ามาคือ 1. time series ที่มาจาก openBCI 2. ข้อมูลของ maekers\n",
    "streams, header = pyxdf.load_xdf(\"C:/Users/Toey/Desktop/data_ssvep/Toey/exp1/block_2.xdf\")"
   ]
  },
  {
   "cell_type": "code",
   "execution_count": 5,
   "metadata": {},
   "outputs": [
    {
     "data": {
      "text/plain": [
       "(8, 229960)"
      ]
     },
     "execution_count": 5,
     "metadata": {},
     "output_type": "execute_result"
    }
   ],
   "source": [
    "raw_data = streams[0][\"time_series\"].T #From Steam variable this query is EEG data\n",
    "raw_data.shape # It contain with 8 channel of EGG data\n",
    "# print(raw_data.shape)"
   ]
  },
  {
   "cell_type": "code",
   "execution_count": 6,
   "metadata": {},
   "outputs": [
    {
     "name": "stdout",
     "output_type": "stream",
     "text": [
      "<RawArray | 8 x 229960 (919.8 s), ~14.0 MB, data loaded>\n",
      "(180,)\n",
      "(180,)\n"
     ]
    }
   ],
   "source": [
    "channels =['Fz','Cz','P4','Pz','P3','P08','Oz','P07'] #Set your target EEG channel name\n",
    "info = mne.create_info(\n",
    "    ch_names= channels,\n",
    "    ch_types= ['eeg']*len(channels),\n",
    "    sfreq= 250 #OpenBCI Frequency acquistion\n",
    ")\n",
    "# Create MNE rawarray\n",
    "raw_mne = mne.io.RawArray(raw_data, info, verbose=False)\n",
    "print(raw_mne)\n",
    "event_index = streams[1][\"time_series\"].T[0] #Get all event marker of experiment \n",
    "#.T คือ transpose array [0] data ใน column 0 ของ streams[1][\"time_series\"]\n",
    "print(event_index.shape)\n",
    "event_timestamp = streams[1][\"time_stamps\"].T #Timestamp when event marked\n",
    "# รับเวลาที่ marker นั้นอยู่\n",
    "print(event_timestamp.shape)"
   ]
  },
  {
   "cell_type": "code",
   "execution_count": 7,
   "metadata": {},
   "outputs": [
    {
     "name": "stdout",
     "output_type": "stream",
     "text": [
      "Not setting metadata\n",
      "180 matching events found\n",
      "Applying baseline correction (mode: mean)\n",
      "0 projection items activated\n",
      "Using data from preloaded Raw for 180 events and 2626 original time points ...\n",
      "0 bad epochs dropped\n"
     ]
    }
   ],
   "source": [
    "events = np.column_stack((np.array(event_timestamp, dtype = int),\n",
    "                        np.zeros(len(event_timestamp), dtype = int),\n",
    "                        np.array(event_index, dtype = int)))\n",
    "fre1 = 8\n",
    "fre2 = 10\n",
    "fre3 = 12\n",
    "fre4 = 14\n",
    "events_id = { # Set up your event name\n",
    "     f'natural': 0,\n",
    "     f'Frequency {fre1} Hz': 1,\n",
    "     f'Frequency {fre2} Hz': 2,\n",
    "     f'Frequency {fre3} Hz': 3,\n",
    "     f'Frequency {fre4} Hz': 4,\n",
    "}\n",
    "mne_epochs = mne.Epochs(raw_mne, events, \n",
    "        tmin= -0.5,     # init timestamp of epoch (0 means trigger timestamp same as event start)\n",
    "        tmax= 10,    # final timestamp (10 means set epoch duration 10 second)\n",
    "        event_id =events_id,\n",
    "        preload = True,\n",
    "        event_repeated='drop',\n",
    "        baseline=(-0.5, 0)\n",
    "    )"
   ]
  },
  {
   "cell_type": "code",
   "execution_count": null,
   "metadata": {},
   "outputs": [],
   "source": []
  },
  {
   "cell_type": "code",
   "execution_count": 8,
   "metadata": {},
   "outputs": [
    {
     "name": "stderr",
     "output_type": "stream",
     "text": [
      "C:\\Users\\Toey\\AppData\\Local\\Temp\\ipykernel_8136\\1290654083.py:1: FutureWarning: The current default of copy=False will change to copy=True in 1.7. Set the value of copy explicitly to avoid this warning\n",
      "  mne_epochs.get_data().shape\n"
     ]
    },
    {
     "data": {
      "text/plain": [
       "(180, 8, 2626)"
      ]
     },
     "execution_count": 8,
     "metadata": {},
     "output_type": "execute_result"
    }
   ],
   "source": [
    "mne_epochs.get_data().shape"
   ]
  },
  {
   "cell_type": "code",
   "execution_count": 9,
   "metadata": {},
   "outputs": [
    {
     "name": "stdout",
     "output_type": "stream",
     "text": [
      "Dropped 80 epochs: 1, 3, 7, 10, 14, 16, 17, 19, 21, 26, 30, 32, 34, 35, 37, 39, 41, 43, 46, 48, 50, 51, 52, 55, 57, 59, 62, 64, 66, 70, 71, 73, 75, 77, 80, 82, 84, 86, 88, 89, 91, 93, 95, 97, 98, 100, 102, 104, 106, 107, 109, 111, 113, 115, 116, 118, 120, 122, 127, 129, 133, 134, 136, 138, 142, 143, 145, 149, 151, 152, 154, 156, 160, 163, 165, 167, 169, 170, 174, 178\n"
     ]
    }
   ],
   "source": [
    "class0 = count_each_class(mne_epochs, 0)\n",
    "class1 = count_each_class(mne_epochs, 1)\n",
    "class2 = count_each_class(mne_epochs, 2)\n",
    "class3 = count_each_class(mne_epochs, 3)\n",
    "class4 = count_each_class(mne_epochs, 4)\n",
    "\n",
    "class_counts = [class0, class1, class2, class3, class4]\n",
    "random_indices_to_drop = random_drop_to_balance(mne_epochs, class_counts)"
   ]
  },
  {
   "cell_type": "code",
   "execution_count": null,
   "metadata": {},
   "outputs": [],
   "source": []
  },
  {
   "cell_type": "code",
   "execution_count": 10,
   "metadata": {},
   "outputs": [
    {
     "name": "stderr",
     "output_type": "stream",
     "text": [
      "C:\\Users\\Toey\\AppData\\Local\\Temp\\ipykernel_8136\\1290654083.py:1: FutureWarning: The current default of copy=False will change to copy=True in 1.7. Set the value of copy explicitly to avoid this warning\n",
      "  mne_epochs.get_data().shape\n"
     ]
    },
    {
     "data": {
      "text/plain": [
       "(100, 8, 2626)"
      ]
     },
     "execution_count": 10,
     "metadata": {},
     "output_type": "execute_result"
    }
   ],
   "source": [
    "mne_epochs.get_data().shape"
   ]
  },
  {
   "cell_type": "code",
   "execution_count": null,
   "metadata": {},
   "outputs": [],
   "source": []
  }
 ],
 "metadata": {
  "kernelspec": {
   "display_name": "base",
   "language": "python",
   "name": "python3"
  },
  "language_info": {
   "codemirror_mode": {
    "name": "ipython",
    "version": 3
   },
   "file_extension": ".py",
   "mimetype": "text/x-python",
   "name": "python",
   "nbconvert_exporter": "python",
   "pygments_lexer": "ipython3",
   "version": "3.11.8"
  }
 },
 "nbformat": 4,
 "nbformat_minor": 2
}
