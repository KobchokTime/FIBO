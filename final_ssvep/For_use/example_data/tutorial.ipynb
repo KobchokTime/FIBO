{
 "cells": [
  {
   "cell_type": "code",
   "execution_count": 9,
   "metadata": {},
   "outputs": [
    {
     "ename": "ValueError",
     "evalue": "operands could not be broadcast together with shapes (40,) (12,) ",
     "output_type": "error",
     "traceback": [
      "\u001b[1;31m---------------------------------------------------------------------------\u001b[0m",
      "\u001b[1;31mValueError\u001b[0m                                Traceback (most recent call last)",
      "Cell \u001b[1;32mIn[9], line 53\u001b[0m\n\u001b[0;32m     48\u001b[0m     result \u001b[38;5;241m=\u001b[39m test_trca(testdata, weight, train_temp, fs, num_fbs, is_ensemble)\n\u001b[0;32m     49\u001b[0m     \u001b[38;5;66;03m#ax[3].plot(testdata[1 ,1 ,:])\u001b[39;00m\n\u001b[0;32m     50\u001b[0m     \u001b[38;5;66;03m# print(result)\u001b[39;00m\n\u001b[0;32m     51\u001b[0m \n\u001b[0;32m     52\u001b[0m     \u001b[38;5;66;03m# print(list_labels==result)\u001b[39;00m\n\u001b[1;32m---> 53\u001b[0m     is_correct \u001b[38;5;241m=\u001b[39m list_labels \u001b[38;5;241m==\u001b[39m result\n\u001b[0;32m     54\u001b[0m     accuracy[loocv_i] \u001b[38;5;241m=\u001b[39m is_correct\u001b[38;5;241m.\u001b[39mmean( ) \u001b[38;5;241m*\u001b[39m\u001b[38;5;241m100\u001b[39m\n\u001b[0;32m     56\u001b[0m \u001b[38;5;28mprint\u001b[39m(accuracy)\n",
      "\u001b[1;31mValueError\u001b[0m: operands could not be broadcast together with shapes (40,) (12,) "
     ]
    }
   ],
   "source": [
    "import scipy.io\n",
    "import numpy as np\n",
    "from trca import train_trca, test_trca, ftrca, filterbank\n",
    "import matplotlib.pyplot as plt\n",
    "filename = 'C:/Users/Toey/Desktop/final_ssvep/12JFPM_SSVEP/data/s1.mat'\n",
    "# filename = 'sample.mat'\n",
    "len_gaze_s = 0.5\n",
    "len_delay_s = 0.13\n",
    "num_fbs = 2\n",
    "is_ensemble = 0\n",
    "alpha_ci = 0.05\n",
    "fs = 250\n",
    "len_shift_s = 0.5\n",
    "\n",
    "list_freqs = []\n",
    "for i in range(5):\n",
    "    for j in range(8):\n",
    "        list_freqs.append(8+0.2*i+1*j)\n",
    "num_targs = len(list_freqs)\n",
    "list_labels = np.array(range(0,num_targs,1))\n",
    "\n",
    "len_gaze_smpl = round(len_gaze_s*fs)\n",
    "len_delay_smpl = round(len_delay_s*fs)\n",
    "len_sel_s = len_gaze_s + len_shift_s\n",
    "ci = 100*(1-alpha_ci)\n",
    "data_segment_smpl = list(range(len_delay_smpl, len_delay_smpl+len_gaze_smpl))\n",
    "\n",
    "matdata = scipy.io.loadmat(filename)\n",
    "#matdata.keys()\n",
    "eeg = matdata['eeg']\n",
    "eeg_seg = eeg[:, :, data_segment_smpl, :]\n",
    "\n",
    "\n",
    "num_trials = eeg_seg.shape[3]\n",
    "\n",
    "accuracy = np.array(range(num_trials))\n",
    "itr = np.array(range(num_trials))\n",
    "for loocv_i in range(num_trials ):\n",
    "    traindata = np.delete(eeg_seg, loocv_i, 3)\n",
    "    weight, train_temp = train_trca(traindata, fs, num_fbs)\n",
    "\n",
    "    #fig, ax = plt.subplots(4)\n",
    "    #ax[0].plot(traindata[1 ,1 ,: ,:])\n",
    "    #ax[1].plot(train_temp[1 ,1 ,: ,1])\n",
    "    #ax[2].plot(np.dot(weight[1 ,: ,1], train_temp[1 ,: ,: ,1]))\n",
    "\n",
    "    testdata = eeg_seg[: ,: ,: ,loocv_i]\n",
    "    result = test_trca(testdata, weight, train_temp, fs, num_fbs, is_ensemble)\n",
    "    #ax[3].plot(testdata[1 ,1 ,:])\n",
    "    # print(result)\n",
    "\n",
    "    # print(list_labels==result)\n",
    "    is_correct = list_labels == result\n",
    "    accuracy[loocv_i] = is_correct.mean( ) *100\n",
    "\n",
    "print(accuracy)\n"
   ]
  },
  {
   "cell_type": "code",
   "execution_count": null,
   "metadata": {},
   "outputs": [],
   "source": []
  }
 ],
 "metadata": {
  "kernelspec": {
   "display_name": "base",
   "language": "python",
   "name": "python3"
  },
  "language_info": {
   "codemirror_mode": {
    "name": "ipython",
    "version": 3
   },
   "file_extension": ".py",
   "mimetype": "text/x-python",
   "name": "python",
   "nbconvert_exporter": "python",
   "pygments_lexer": "ipython3",
   "version": "3.11.8"
  }
 },
 "nbformat": 4,
 "nbformat_minor": 2
}
