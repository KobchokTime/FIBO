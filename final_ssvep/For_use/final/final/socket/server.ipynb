{
 "cells": [
  {
   "cell_type": "code",
   "execution_count": 1,
   "metadata": {},
   "outputs": [
    {
     "name": "stdout",
     "output_type": "stream",
     "text": [
      "Server is listening on 10.63.5.92:6000\n",
      "Connection from ('10.63.5.92', 53816) has been established.\n",
      "Received data from ('10.63.5.92', 53816): Hello, Server!\n",
      "Received data from ('10.63.5.92', 53816): Hello, Server!\n",
      "Received data from ('10.63.5.92', 53816): Hello, Server!\n",
      "Received data from ('10.63.5.92', 53816): Hello, Server!\n",
      "Received data from ('10.63.5.92', 53816): Hello, Server!\n",
      "Connection from ('10.63.5.92', 53816) has been closed.\n"
     ]
    }
   ],
   "source": [
    "import socket\n",
    "import threading\n",
    "\n",
    "# ตั้งค่าที่อยู่ IP และพอร์ต\n",
    "server_ip = '10.63.5.92'  # ฟังจากทุก IP ที่เชื่อมต่อกับเครื่องนี้\n",
    "server_port = 6000\n",
    "\n",
    "# สร้าง socket object\n",
    "server_socket = socket.socket(socket.AF_INET, socket.SOCK_STREAM)\n",
    "\n",
    "# ผูก socket กับ IP และพอร์ต\n",
    "server_socket.bind((server_ip, server_port))\n",
    "\n",
    "# รอการเชื่อมต่อ\n",
    "server_socket.listen(5)\n",
    "print(f\"Server is listening on {server_ip}:{server_port}\")\n",
    "\n",
    "# ฟังก์ชันในการจัดการ client ที่เชื่อมต่อ\n",
    "def handle_client(client_socket, client_address):\n",
    "    print(f\"Connection from {client_address} has been established.\")\n",
    "    while True:\n",
    "        try:\n",
    "            # รับข้อมูลจาก client\n",
    "            data = client_socket.recv(1024).decode('utf-8')\n",
    "            if not data:\n",
    "                break\n",
    "            print(f\"Received data from {client_address}: {data}\")\n",
    "        except ConnectionResetError:\n",
    "            break\n",
    "        except Exception as e:\n",
    "            print(f\"An error occurred with {client_address}: {e}\")\n",
    "            break\n",
    "    print(f\"Connection from {client_address} has been closed.\")\n",
    "    client_socket.close()\n",
    "\n",
    "# รับการเชื่อมต่อจาก client\n",
    "while True:\n",
    "    client_socket, client_address = server_socket.accept()\n",
    "    client_handler = threading.Thread(target=handle_client, args=(client_socket, client_address))\n",
    "    client_handler.start()\n"
   ]
  },
  {
   "cell_type": "code",
   "execution_count": null,
   "metadata": {},
   "outputs": [],
   "source": []
  }
 ],
 "metadata": {
  "kernelspec": {
   "display_name": "base",
   "language": "python",
   "name": "python3"
  },
  "language_info": {
   "codemirror_mode": {
    "name": "ipython",
    "version": 3
   },
   "file_extension": ".py",
   "mimetype": "text/x-python",
   "name": "python",
   "nbconvert_exporter": "python",
   "pygments_lexer": "ipython3",
   "version": "3.11.8"
  }
 },
 "nbformat": 4,
 "nbformat_minor": 2
}
