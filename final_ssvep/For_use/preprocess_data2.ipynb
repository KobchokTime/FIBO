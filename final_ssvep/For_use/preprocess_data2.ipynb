{
 "cells": [
  {
   "cell_type": "code",
   "execution_count": 16,
   "metadata": {},
   "outputs": [],
   "source": [
    "import pyxdf\n",
    "import mne\n",
    "import numpy as np\n",
    "import pandas as pd\n",
    "streams, header = pyxdf.load_xdf(\"C:/Users/Toey/Desktop/data_ssvep/Toey/exp1/block_1.xdf\")"
   ]
  },
  {
   "cell_type": "code",
   "execution_count": 17,
   "metadata": {},
   "outputs": [],
   "source": [
    "# สร้าง list เพื่อเก็บ index ของ epoch ที่ต้องการลบ event_id ออก\n",
    "def count_each_class(mne_epochs, num_class):\n",
    "    indices_to_drop = []\n",
    "    num_class = num_class\n",
    "\n",
    "    # Iterate ผ่านทุกๆ epoch\n",
    "    for idx, epoch in enumerate(mne_epochs):\n",
    "        # ตรวจสอบว่า event_id เป็น {'natural': 0} หรือไม่\n",
    "        if mne_epochs.events[idx, -1] == num_class:  # ตรวจสอบ event_id ในข้อมูล events ของ epoch นั้นๆ\n",
    "            # เพิ่ม index ของ epoch ที่ต้องการลบออกใน list\n",
    "            indices_to_drop.append(idx)\n",
    "\n",
    "    # ลบ epoch ที่มี event_id เป็น {'natural': 0} ออกจาก mne_epochs\n",
    "    return indices_to_drop\n",
    "    # mne_epochs.drop(indices_to_drop)"
   ]
  },
  {
   "cell_type": "code",
   "execution_count": 18,
   "metadata": {},
   "outputs": [],
   "source": [
    "import random\n",
    "\n",
    "def random_drop_to_balance(mne_epochs, class_counts):\n",
    "    # หาจำนวนของ class ที่มีจำนวนน้อยสุด\n",
    "    # print(class_counts)\n",
    "    min_count = min(class_counts)\n",
    "    \n",
    "    # สร้าง list เพื่อเก็บ index ของแต่ละ class\n",
    "    class_indices = [[] for _ in range(len(class_counts))]\n",
    "\n",
    "    # นับ index ของแต่ละ class\n",
    "    for idx, epoch in enumerate(mne_epochs):\n",
    "        event_id = mne_epochs.events[idx, -1]\n",
    "        class_indices[event_id].append(idx)\n",
    "\n",
    "    # สุ่มลำดับ index ของแต่ละ class เพื่อทำการลบ\n",
    "    random_indices_to_drop = []\n",
    "    for indices in class_indices:\n",
    "        # สุ่มลำดับ index ที่ต้องการลบออก\n",
    "        if len(indices) > len(min_count):\n",
    "            random_indices = random.sample(indices, len(indices) - len(min_count))\n",
    "            random_indices_to_drop.extend(random_indices)\n",
    "    \n",
    "    # ลบ epoch ที่ต้องการออกจาก mne_epochs\n",
    "    mne_epochs.drop(random_indices_to_drop)\n",
    "\n",
    "    return random_indices_to_drop"
   ]
  },
  {
   "cell_type": "code",
   "execution_count": 19,
   "metadata": {},
   "outputs": [
    {
     "data": {
      "text/plain": [
       "(8, 331950)"
      ]
     },
     "execution_count": 19,
     "metadata": {},
     "output_type": "execute_result"
    }
   ],
   "source": [
    "raw_data = streams[0][\"time_series\"].T #From Steam variable this query is EEG data\n",
    "raw_data.shape # It contain with 8 channel of EGG data"
   ]
  },
  {
   "cell_type": "code",
   "execution_count": 20,
   "metadata": {},
   "outputs": [],
   "source": [
    "channels =['Fz','Cz','P4','Pz','P3','P08','Oz','P07'] #Set your target EEG channel name\n",
    "info = mne.create_info(\n",
    "    ch_names= channels,\n",
    "    ch_types= ['eeg']*len(channels),\n",
    "    sfreq= 250 #OpenBCI Frequency acquistion\n",
    ")\n",
    "# Create MNE rawarray\n",
    "raw_mne = mne.io.RawArray(raw_data, info, verbose=False)"
   ]
  },
  {
   "cell_type": "code",
   "execution_count": 21,
   "metadata": {},
   "outputs": [
    {
     "name": "stdout",
     "output_type": "stream",
     "text": [
      "<RawArray | 8 x 331950 (1327.8 s), ~20.3 MB, data loaded>\n",
      "(100,)\n",
      "(100,)\n"
     ]
    }
   ],
   "source": [
    "raw_mne = mne.io.RawArray(raw_data, info, verbose=False)\n",
    "print(raw_mne)\n",
    "event_index = streams[1][\"time_series\"].T[0] #Get all event marker of experiment \n",
    "#.T คือ transpose array [0] data ใน column 0 ของ streams[1][\"time_series\"]\n",
    "print(event_index.shape)\n",
    "event_timestamp = streams[1][\"time_stamps\"].T #Timestamp when event marked\n",
    "# รับเวลาที่ marker นั้นอยู่\n",
    "print(event_timestamp.shape)"
   ]
  },
  {
   "cell_type": "code",
   "execution_count": 22,
   "metadata": {},
   "outputs": [
    {
     "name": "stdout",
     "output_type": "stream",
     "text": [
      "Not setting metadata\n",
      "100 matching events found\n",
      "Applying baseline correction (mode: mean)\n",
      "0 projection items activated\n",
      "Using data from preloaded Raw for 100 events and 5126 original time points ...\n",
      "0 bad epochs dropped\n"
     ]
    },
    {
     "data": {
      "text/html": [
       "<table class=\"table table-hover table-striped table-sm table-responsive small\">\n",
       "    <tr>\n",
       "        <th>Number of events</th>\n",
       "        <td>100</td>\n",
       "    </tr>\n",
       "    <tr>\n",
       "        <th>Events</th>\n",
       "        \n",
       "        <td>Frequency 10 Hz: 11<br/>Frequency 12 Hz: 11<br/>Frequency 14 Hz: 11<br/>Frequency 8 Hz: 11<br/>natural: 56</td>\n",
       "        \n",
       "    </tr>\n",
       "    <tr>\n",
       "        <th>Time range</th>\n",
       "        <td>-0.500 – 20.000 s</td>\n",
       "    </tr>\n",
       "    <tr>\n",
       "        <th>Baseline</th>\n",
       "        <td>-0.500 – 0.000 s</td>\n",
       "    </tr>\n",
       "</table>"
      ],
      "text/plain": [
       "<Epochs |  100 events (all good), -0.5 – 20 s, baseline -0.5 – 0 s, ~31.3 MB, data loaded,\n",
       " 'natural': 56\n",
       " 'Frequency 8 Hz': 11\n",
       " 'Frequency 10 Hz': 11\n",
       " 'Frequency 12 Hz': 11\n",
       " 'Frequency 14 Hz': 11>"
      ]
     },
     "execution_count": 22,
     "metadata": {},
     "output_type": "execute_result"
    }
   ],
   "source": [
    "events = np.column_stack((np.array(event_timestamp, dtype = int),\n",
    "                        np.zeros(len(event_timestamp), dtype = int),\n",
    "                        np.array(event_index, dtype = int)))\n",
    "fre1 = 8\n",
    "fre2 = 10\n",
    "fre3 = 12\n",
    "fre4 = 14\n",
    "events_id = { # Set up your event name\n",
    "     f'natural': 0,\n",
    "     f'Frequency {fre1} Hz': 1,\n",
    "     f'Frequency {fre2} Hz': 2,\n",
    "     f'Frequency {fre3} Hz': 3,\n",
    "     f'Frequency {fre4} Hz': 4,\n",
    "}\n",
    "mne_epochs = mne.Epochs(raw_mne, events, \n",
    "        tmin= -0.5,     # init timestamp of epoch (0 means trigger timestamp same as event start)\n",
    "        tmax= 20,    # final timestamp (10 means set epoch duration 10 second)\n",
    "        event_id =events_id,\n",
    "        preload = True,\n",
    "        event_repeated='drop',\n",
    "        baseline=(-0.5, 0)\n",
    "    )\n",
    "mne_epochs"
   ]
  },
  {
   "cell_type": "code",
   "execution_count": 23,
   "metadata": {},
   "outputs": [
    {
     "name": "stderr",
     "output_type": "stream",
     "text": [
      "C:\\Users\\Toey\\AppData\\Local\\Temp\\ipykernel_348\\1290654083.py:1: FutureWarning: The current default of copy=False will change to copy=True in 1.7. Set the value of copy explicitly to avoid this warning\n",
      "  mne_epochs.get_data().shape\n"
     ]
    },
    {
     "data": {
      "text/plain": [
       "(100, 8, 5126)"
      ]
     },
     "execution_count": 23,
     "metadata": {},
     "output_type": "execute_result"
    }
   ],
   "source": [
    "mne_epochs.get_data().shape"
   ]
  },
  {
   "cell_type": "code",
   "execution_count": 24,
   "metadata": {},
   "outputs": [
    {
     "name": "stdout",
     "output_type": "stream",
     "text": [
      "Dropped 45 epochs: 3, 5, 7, 8, 10, 12, 14, 16, 17, 19, 21, 23, 25, 26, 28, 30, 32, 35, 37, 39, 41, 44, 46, 48, 50, 53, 55, 57, 59, 61, 62, 66, 68, 70, 73, 77, 79, 80, 86, 88, 91, 93, 95, 98, 99\n"
     ]
    }
   ],
   "source": [
    "class0 = count_each_class(mne_epochs, 0)\n",
    "class1 = count_each_class(mne_epochs, 1)\n",
    "class2 = count_each_class(mne_epochs, 2)\n",
    "class3 = count_each_class(mne_epochs, 3)\n",
    "class4 = count_each_class(mne_epochs, 4)\n",
    "\n",
    "class_counts = [class0, class1, class2, class3, class4]\n",
    "random_indices_to_drop = random_drop_to_balance(mne_epochs, class_counts)"
   ]
  },
  {
   "cell_type": "code",
   "execution_count": 25,
   "metadata": {},
   "outputs": [
    {
     "name": "stderr",
     "output_type": "stream",
     "text": [
      "C:\\Users\\Toey\\AppData\\Local\\Temp\\ipykernel_348\\1290654083.py:1: FutureWarning: The current default of copy=False will change to copy=True in 1.7. Set the value of copy explicitly to avoid this warning\n",
      "  mne_epochs.get_data().shape\n"
     ]
    },
    {
     "data": {
      "text/plain": [
       "(55, 8, 5126)"
      ]
     },
     "execution_count": 25,
     "metadata": {},
     "output_type": "execute_result"
    }
   ],
   "source": [
    "mne_epochs.get_data().shape"
   ]
  },
  {
   "cell_type": "code",
   "execution_count": 26,
   "metadata": {},
   "outputs": [
    {
     "data": {
      "text/html": [
       "<table class=\"table table-hover table-striped table-sm table-responsive small\">\n",
       "    <tr>\n",
       "        <th>Number of events</th>\n",
       "        <td>55</td>\n",
       "    </tr>\n",
       "    <tr>\n",
       "        <th>Events</th>\n",
       "        \n",
       "        <td>Frequency 10 Hz: 11<br/>Frequency 12 Hz: 11<br/>Frequency 14 Hz: 11<br/>Frequency 8 Hz: 11<br/>natural: 11</td>\n",
       "        \n",
       "    </tr>\n",
       "    <tr>\n",
       "        <th>Time range</th>\n",
       "        <td>-0.500 – 20.000 s</td>\n",
       "    </tr>\n",
       "    <tr>\n",
       "        <th>Baseline</th>\n",
       "        <td>-0.500 – 0.000 s</td>\n",
       "    </tr>\n",
       "</table>"
      ],
      "text/plain": [
       "<Epochs |  55 events (all good), -0.5 – 20 s, baseline -0.5 – 0 s, ~17.2 MB, data loaded,\n",
       " 'natural': 11\n",
       " 'Frequency 8 Hz': 11\n",
       " 'Frequency 10 Hz': 11\n",
       " 'Frequency 12 Hz': 11\n",
       " 'Frequency 14 Hz': 11>"
      ]
     },
     "execution_count": 26,
     "metadata": {},
     "output_type": "execute_result"
    }
   ],
   "source": [
    "mne_epochs"
   ]
  },
  {
   "cell_type": "code",
   "execution_count": 27,
   "metadata": {},
   "outputs": [
    {
     "name": "stdout",
     "output_type": "stream",
     "text": [
      "(55, 8, 5126)\n",
      "(55,)\n"
     ]
    },
    {
     "name": "stderr",
     "output_type": "stream",
     "text": [
      "C:\\Users\\Toey\\AppData\\Local\\Temp\\ipykernel_348\\1471954283.py:1: FutureWarning: The current default of copy=False will change to copy=True in 1.7. Set the value of copy explicitly to avoid this warning\n",
      "  x = mne_epochs.get_data()\n"
     ]
    }
   ],
   "source": [
    "x = mne_epochs.get_data()\n",
    "y = mne_epochs.events[:, -1]\n",
    "\n",
    "# print(x.shape)\n",
    "# print(y.shape)"
   ]
  },
  {
   "cell_type": "code",
   "execution_count": null,
   "metadata": {},
   "outputs": [],
   "source": []
  }
 ],
 "metadata": {
  "kernelspec": {
   "display_name": "base",
   "language": "python",
   "name": "python3"
  },
  "language_info": {
   "codemirror_mode": {
    "name": "ipython",
    "version": 3
   },
   "file_extension": ".py",
   "mimetype": "text/x-python",
   "name": "python",
   "nbconvert_exporter": "python",
   "pygments_lexer": "ipython3",
   "version": "3.11.8"
  }
 },
 "nbformat": 4,
 "nbformat_minor": 2
}
