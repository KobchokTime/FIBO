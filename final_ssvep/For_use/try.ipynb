{
 "cells": [
  {
   "cell_type": "code",
   "execution_count": 46,
   "metadata": {},
   "outputs": [],
   "source": [
    "from scipy.io import loadmat\n",
    "import pandas as pd\n",
    "\n",
    "# โหลดข้อมูลจากไฟล์ .mat\n",
    "mat_data = loadmat('C:/Users/Toey/Desktop/final_ssvep/For_use/P01_Ses6.mat')"
   ]
  },
  {
   "cell_type": "code",
   "execution_count": 47,
   "metadata": {},
   "outputs": [
    {
     "name": "stdout",
     "output_type": "stream",
     "text": [
      "dict_keys(['__header__', '__version__', '__globals__', 'data_ses6'])\n",
      "Key: __header__, Shape: ()\n",
      "Key: __version__, Shape: ()\n",
      "Key: __globals__, Shape: (0,)\n",
      "Key: data_ses6, Shape: (10, 284113)\n"
     ]
    }
   ],
   "source": [
    "import numpy as np\n",
    "\n",
    "# ตรวจสอบ keys ทั้งหมดที่อยู่ใน dictionary\n",
    "print(mat_data.keys())\n",
    "\n",
    "# ตรวจสอบขนาดของข้อมูลในแต่ละ key\n",
    "for key in mat_data.keys():\n",
    "    print(f\"Key: {key}, Shape: {np.shape(mat_data[key])}\")\n"
   ]
  },
  {
   "cell_type": "code",
   "execution_count": 48,
   "metadata": {},
   "outputs": [
    {
     "name": "stdout",
     "output_type": "stream",
     "text": [
      "[[ 0.00000000e+00  1.95312500e-03  3.90625000e-03 ...  5.54902344e+02\n",
      "   5.54904297e+02  5.54906250e+02]\n",
      " [ 0.00000000e+00  1.38015457e+02  6.26481384e+02 ... -8.07995701e+00\n",
      "  -8.54723072e+00 -1.03283834e+01]\n",
      " [ 0.00000000e+00 -5.61666756e+01 -2.73690887e+02 ... -1.06311560e+01\n",
      "  -1.17711391e+01 -1.16142817e+01]\n",
      " ...\n",
      " [ 0.00000000e+00  0.00000000e+00  0.00000000e+00 ...  0.00000000e+00\n",
      "   0.00000000e+00  0.00000000e+00]\n",
      " [ 0.00000000e+00  0.00000000e+00  0.00000000e+00 ...  0.00000000e+00\n",
      "   0.00000000e+00  0.00000000e+00]\n",
      " [ 0.00000000e+00  0.00000000e+00  0.00000000e+00 ...  1.11214130e+07\n",
      "   1.11214130e+07  1.11214130e+07]]\n"
     ]
    }
   ],
   "source": [
    "data = mat_data['data_ses6']\n",
    "print(data)"
   ]
  },
  {
   "cell_type": "code",
   "execution_count": 49,
   "metadata": {},
   "outputs": [],
   "source": [
    "df = pd.DataFrame(data.T, columns=[\"timestamps\", \"PO3\", \"POz\", \"PO4\", \"O1\", \"Oz\", \"O2\", \"triggers\", \"stimulation_periods\", \"decoder_outputs\"])\n",
    "\n",
    "# บันทึก DataFrame เป็นไฟล์ CSV\n",
    "df.to_csv('data6.csv', index=False)"
   ]
  },
  {
   "cell_type": "code",
   "execution_count": 52,
   "metadata": {},
   "outputs": [
    {
     "name": "stdout",
     "output_type": "stream",
     "text": [
      "Timestamps:\n",
      "[0.00000000e+00 1.95312500e-03 3.90625000e-03 ... 5.85152344e+02\n",
      " 5.85154297e+02 5.85156250e+02]\n",
      "\n",
      "Channels:\n",
      "[[-7.40584656e+02 -3.45017407e+03 -6.28383057e+03 ... -1.94221573e+01\n",
      "  -2.17068462e+01 -2.42440186e+01]\n",
      " [-1.12930641e+02 -5.28620850e+02 -9.72410278e+02 ... -2.76178303e+01\n",
      "  -2.89141312e+01 -2.89518375e+01]\n",
      " [-7.67404236e+02 -3.58401367e+03 -6.55457227e+03 ... -2.92370243e+01\n",
      "  -3.32141495e+01 -3.50372581e+01]\n",
      " [-1.76710449e+02 -8.17160034e+02 -1.46586597e+03 ... -4.89260721e+00\n",
      "  -8.33162594e+00 -1.01312284e+01]\n",
      " [-3.25318512e+02 -1.52469690e+03 -2.81906616e+03 ... -3.78846207e+01\n",
      "  -3.97624664e+01 -4.04456062e+01]\n",
      " [-7.34667908e+02 -3.44597412e+03 -6.36165967e+03 ...  1.54224777e+02\n",
      "   1.48576523e+02  1.46825607e+02]]\n",
      "\n",
      "Triggers:\n",
      "[0. 0. 0. ... 0. 0. 0.]\n",
      "\n",
      "Processed Triggers:\n",
      "[0. 0. 0. ... 0. 0. 0.]\n",
      "\n",
      "Decoder Outputs:\n",
      "[      0.       0.       0. ... 5050505. 5050505. 5050505.]\n"
     ]
    }
   ],
   "source": [
    "data_ses1 = mat_data['data_ses1']\n",
    "\n",
    "# ดึงข้อมูลจากแต่ละแถว\n",
    "timestamps = data_ses1[0]\n",
    "channels = data_ses1[1:7]  # ช่อง PO3, POz, PO4, O1, Oz, O2\n",
    "triggers = data_ses1[7]\n",
    "processed_triggers = data_ses1[8]\n",
    "decoder_outputs = data_ses1[9]\n",
    "\n",
    "# ตัวอย่างการแสดงข้อมูล\n",
    "print(\"Timestamps:\")\n",
    "print(timestamps)\n",
    "\n",
    "print(\"\\nChannels:\")\n",
    "print(channels)\n",
    "\n",
    "print(\"\\nTriggers:\")\n",
    "print(triggers)\n",
    "\n",
    "print(\"\\nProcessed Triggers:\")\n",
    "print(processed_triggers)\n",
    "\n",
    "print(\"\\nDecoder Outputs:\")\n",
    "print(decoder_outputs)\n",
    "\n",
    "# ตัวอย่างการดึงข้อมูลจากแต่ละแถว\n",
    "# เช่นการดึงเวลา timestamps ของแต่ละ trial\n",
    "trial_timestamps = timestamps[0]\n",
    "\n",
    "# เช่นการดึงข้อมูลจากช่อง PO3\n",
    "po3_data = channels[0]\n",
    "\n",
    "# เช่นการดึงข้อมูล triggers ของแต่ละ trial\n",
    "trial_triggers = triggers[0]\n",
    "\n",
    "# เช่นการดึงข้อมูล triggers ที่ถูกประมวลผลแล้ว\n",
    "processed_trial_triggers = processed_triggers[0]\n",
    "\n",
    "# เช่นการดึงผลลัพธ์จาก decoder ใน trial แรก\n",
    "first_trial_decoder_output = decoder_outputs[0]\n"
   ]
  },
  {
   "cell_type": "code",
   "execution_count": null,
   "metadata": {},
   "outputs": [],
   "source": []
  },
  {
   "cell_type": "code",
   "execution_count": null,
   "metadata": {},
   "outputs": [],
   "source": []
  }
 ],
 "metadata": {
  "kernelspec": {
   "display_name": "base",
   "language": "python",
   "name": "python3"
  },
  "language_info": {
   "codemirror_mode": {
    "name": "ipython",
    "version": 3
   },
   "file_extension": ".py",
   "mimetype": "text/x-python",
   "name": "python",
   "nbconvert_exporter": "python",
   "pygments_lexer": "ipython3",
   "version": "3.11.8"
  }
 },
 "nbformat": 4,
 "nbformat_minor": 2
}
