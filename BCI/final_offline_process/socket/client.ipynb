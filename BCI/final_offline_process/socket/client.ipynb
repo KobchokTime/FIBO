{
 "cells": [
  {
   "cell_type": "code",
   "execution_count": 3,
   "metadata": {},
   "outputs": [
    {
     "ename": "TimeoutError",
     "evalue": "[WinError 10060] A connection attempt failed because the connected party did not properly respond after a period of time, or established connection failed because connected host has failed to respond",
     "output_type": "error",
     "traceback": [
      "\u001b[1;31m---------------------------------------------------------------------------\u001b[0m",
      "\u001b[1;31mTimeoutError\u001b[0m                              Traceback (most recent call last)",
      "Cell \u001b[1;32mIn[3], line 11\u001b[0m\n\u001b[0;32m      8\u001b[0m client_socket \u001b[38;5;241m=\u001b[39m socket\u001b[38;5;241m.\u001b[39msocket(socket\u001b[38;5;241m.\u001b[39mAF_INET, socket\u001b[38;5;241m.\u001b[39mSOCK_STREAM)\n\u001b[0;32m     10\u001b[0m \u001b[38;5;66;03m# เชื่อมต่อกับ server\u001b[39;00m\n\u001b[1;32m---> 11\u001b[0m client_socket\u001b[38;5;241m.\u001b[39mconnect((server_ip, server_port))\n\u001b[0;32m     13\u001b[0m \u001b[38;5;66;03m# ส่งข้อมูลไปยัง server\u001b[39;00m\n\u001b[0;32m     14\u001b[0m message \u001b[38;5;241m=\u001b[39m \u001b[38;5;124m\"\u001b[39m\u001b[38;5;124mHello, Server!\u001b[39m\u001b[38;5;124m\"\u001b[39m\n",
      "\u001b[1;31mTimeoutError\u001b[0m: [WinError 10060] A connection attempt failed because the connected party did not properly respond after a period of time, or established connection failed because connected host has failed to respond"
     ]
    }
   ],
   "source": [
    "import socket\n",
    "\n",
    "# ตั้งค่าที่อยู่ IP และพอร์ตของ server\n",
    "server_ip = '54.254.102.240'  # แทนที่ด้วย IP ของเครื่อง server\n",
    "server_port = 8765\n",
    "\n",
    "# สร้าง socket object\n",
    "client_socket = socket.socket(socket.AF_INET, socket.SOCK_STREAM)\n",
    "\n",
    "# เชื่อมต่อกับ server\n",
    "client_socket.connect((server_ip, server_port))\n",
    "\n",
    "# ส่งข้อมูลไปยัง server\n",
    "message = \"Hello, Server!\"\n",
    "client_socket.send(message.encode('utf-8'))\n",
    "\n",
    "# รับข้อมูลตอบกลับจาก server (optional)\n",
    "response = client_socket.recv(1024).decode('utf-8')\n",
    "print(f\"Server response: {response}\")\n",
    "\n",
    "# ปิดการเชื่อมต่อ\n",
    "client_socket.close()\n"
   ]
  },
  {
   "cell_type": "code",
   "execution_count": null,
   "metadata": {},
   "outputs": [],
   "source": []
  },
  {
   "cell_type": "code",
   "execution_count": null,
   "metadata": {},
   "outputs": [],
   "source": []
  }
 ],
 "metadata": {
  "kernelspec": {
   "display_name": "base",
   "language": "python",
   "name": "python3"
  },
  "language_info": {
   "codemirror_mode": {
    "name": "ipython",
    "version": 3
   },
   "file_extension": ".py",
   "mimetype": "text/x-python",
   "name": "python",
   "nbconvert_exporter": "python",
   "pygments_lexer": "ipython3",
   "version": "3.11.8"
  }
 },
 "nbformat": 4,
 "nbformat_minor": 2
}
