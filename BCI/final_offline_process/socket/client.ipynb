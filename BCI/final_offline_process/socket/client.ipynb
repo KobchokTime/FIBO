{
 "cells": [
  {
   "cell_type": "code",
   "execution_count": 3,
   "metadata": {},
   "outputs": [
    {
     "name": "stdout",
     "output_type": "stream",
     "text": [
      "Server response: Data received\n"
     ]
    }
   ],
   "source": [
    "import socket\n",
    "\n",
    "# ตั้งค่าที่อยู่ IP และพอร์ตของ server\n",
    "server_ip = '10.63.5.92'  # แทนที่ด้วย IP ของเครื่อง server\n",
    "server_port = 6000\n",
    "\n",
    "# สร้าง socket object\n",
    "client_socket = socket.socket(socket.AF_INET, socket.SOCK_STREAM)\n",
    "\n",
    "# เชื่อมต่อกับ server\n",
    "client_socket.connect((server_ip, server_port))\n",
    "\n",
    "# ส่งข้อมูลไปยัง server\n",
    "message = \"Hello, Server!\"\n",
    "client_socket.send(message.encode('utf-8'))\n",
    "\n",
    "# รับข้อมูลตอบกลับจาก server (optional)\n",
    "response = client_socket.recv(1024).decode('utf-8')\n",
    "print(f\"Server response: {response}\")\n",
    "\n",
    "# ปิดการเชื่อมต่อ\n",
    "client_socket.close()\n"
   ]
  },
  {
   "cell_type": "code",
   "execution_count": null,
   "metadata": {},
   "outputs": [],
   "source": []
  },
  {
   "cell_type": "code",
   "execution_count": null,
   "metadata": {},
   "outputs": [],
   "source": []
  }
 ],
 "metadata": {
  "kernelspec": {
   "display_name": "base",
   "language": "python",
   "name": "python3"
  },
  "language_info": {
   "codemirror_mode": {
    "name": "ipython",
    "version": 3
   },
   "file_extension": ".py",
   "mimetype": "text/x-python",
   "name": "python",
   "nbconvert_exporter": "python",
   "pygments_lexer": "ipython3",
   "version": "3.11.8"
  }
 },
 "nbformat": 4,
 "nbformat_minor": 2
}
