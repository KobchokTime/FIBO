{
 "cells": [
  {
   "cell_type": "code",
   "execution_count": 1,
   "metadata": {},
   "outputs": [
    {
     "name": "stderr",
     "output_type": "stream",
     "text": [
      "Authorization classes are not loaded, using fake implementations.\n"
     ]
    }
   ],
   "source": [
    "import matplotlib.pyplot as plt\n",
    "import numpy as np\n",
    "import flet as ft\n",
    "import os\n",
    "from pylsl import StreamInlet, resolve_stream\n",
    "from scipy.signal import welch, spectrogram\n",
    "from sklearn.metrics import precision_score, recall_score, f1_score, confusion_matrix, accuracy_score\n",
    "import pandas as pd\n",
    "from joblib import dump, load\n",
    "import pyxdf\n",
    "from sklearn.model_selection import train_test_split\n",
    "from sklearn.ensemble import RandomForestClassifier\n",
    "from sklearn.svm import SVC\n",
    "from sklearn.discriminant_analysis import LinearDiscriminantAnalysis\n",
    "from sklearn.neighbors import KNeighborsClassifier\n",
    "from sklearn.model_selection import GridSearchCV\n",
    "import seaborn as sns\n",
    "from keras.models import load_model"
   ]
  },
  {
   "cell_type": "code",
   "execution_count": 2,
   "metadata": {},
   "outputs": [],
   "source": [
    "def create_overlapping_sets(data, set_size=500, overlap_fraction=0.5):\n",
    "    step = int(set_size * (1 - overlap_fraction))\n",
    "    sets = []\n",
    "    for i in range(0, len(data) - set_size + 1, step):\n",
    "        sets.append(data[i:i + set_size])\n",
    "    return sets"
   ]
  },
  {
   "cell_type": "code",
   "execution_count": 3,
   "metadata": {},
   "outputs": [],
   "source": [
    "import numpy as np\n",
    "from scipy.signal import welch, find_peaks, butter, filtfilt\n",
    "from sklearn.preprocessing import StandardScaler\n",
    "from sklearn.cross_decomposition import CCA\n",
    "from sklearn.ensemble import RandomForestClassifier\n",
    "from sklearn.model_selection import train_test_split\n",
    "from sklearn.metrics import accuracy_score\n",
    "from sklearn.metrics import classification_report, confusion_matrix, precision_recall_fscore_support\n",
    "\n",
    "# Define function to calculate PSD\n",
    "def calculate_psd(data, fs=250, nperseg=250*4):\n",
    "    f, Pxx = welch(data, fs=fs, nperseg=nperseg)\n",
    "    return f, Pxx\n",
    "\n",
    "# Define function to detect peaks\n",
    "def detect_peaks(Pxx):\n",
    "    peaks, _ = find_peaks(Pxx)\n",
    "    return peaks\n",
    "\n",
    "# Define function for band-pass filtering\n",
    "def band_pass_filter(data, lowcut, highcut, fs=250, order=5):\n",
    "    nyquist = 0.5 * fs\n",
    "    low = lowcut / nyquist\n",
    "    high = highcut / nyquist\n",
    "    b, a = butter(order, [low, high], btype='band')\n",
    "    y = filtfilt(b, a, data)\n",
    "    return y\n",
    "\n",
    "# Apply band-pass filter and calculate PSD for each dataset\n",
    "def process_data(data_set):\n",
    "    filtered_data = [band_pass_filter(epoch, 0.5, 50) for epoch in data_set]\n",
    "    data_fft = []\n",
    "    for epoch in filtered_data:\n",
    "        f, Pxx = calculate_psd(epoch)\n",
    "        peaks = detect_peaks(Pxx)\n",
    "        data_fft.append(Pxx[:121])\n",
    "    return data_fft"
   ]
  },
  {
   "cell_type": "code",
   "execution_count": 4,
   "metadata": {},
   "outputs": [],
   "source": [
    "streams_test1, header = pyxdf.load_xdf('../../../../data_ssvep/Toey/SSVEP_data/test/6hz_10')\n",
    "raw_test1 = streams_test1[0][\"time_series\"].T #From Steam variable this query is EEG data\n",
    "\n",
    "streams_test2, header = pyxdf.load_xdf('../../../../data_ssvep/Toey/SSVEP_data/test/20hz_10')\n",
    "raw_test2 = streams_test2[0][\"time_series\"].T #From Steam variable this query is EEG data\n",
    "\n",
    "streams_test3, header = pyxdf.load_xdf('../../../../data_ssvep/Toey/SSVEP_data/test/0hz_10')\n",
    "raw_test3 = streams_test3[0][\"time_series\"].T #From Steam variable this query is EEG data"
   ]
  },
  {
   "cell_type": "code",
   "execution_count": 5,
   "metadata": {},
   "outputs": [],
   "source": [
    "data_test1 = raw_test1[0:4,:]\n",
    "data_test1_oz = data_test1[0] - data_test1[1]\n",
    "data_test1_o1 = data_test1[2] - data_test1[1]\n",
    "data_test1_o2 = data_test1[3] - data_test1[1]\n",
    "data_test1_set_oz = create_overlapping_sets(data_test1_oz, set_size=1000, overlap_fraction=0.5)\n",
    "data_test1_set_o1 = create_overlapping_sets(data_test1_o1, set_size=1000, overlap_fraction=0.5)\n",
    "data_test1_set_o2 = create_overlapping_sets(data_test1_o2, set_size=1000, overlap_fraction=0.5)\n",
    "\n",
    "data_test2 = raw_test2[0:4,:]\n",
    "data_test2_oz = data_test2[0] - data_test2[1]\n",
    "data_test2_o1 = data_test2[2] - data_test2[1]\n",
    "data_test2_o2 = data_test2[3] - data_test2[1]\n",
    "data_test2_set_oz = create_overlapping_sets(data_test2_oz, set_size=1000, overlap_fraction=0.5)\n",
    "data_test2_set_o1 = create_overlapping_sets(data_test2_o1, set_size=1000, overlap_fraction=0.5)\n",
    "data_test2_set_o2 = create_overlapping_sets(data_test2_o2, set_size=1000, overlap_fraction=0.5)\n",
    "\n",
    "data_test3 = raw_test3[0:4,:]\n",
    "data_test3_oz = data_test3[0] - data_test3[1]\n",
    "data_test3_o1 = data_test3[2] - data_test3[1]\n",
    "data_test3_o2 = data_test3[3] - data_test3[1]\n",
    "data_test3_set_oz = create_overlapping_sets(data_test3_oz, set_size=1000, overlap_fraction=0.5)\n",
    "data_test3_set_o1 = create_overlapping_sets(data_test3_o1, set_size=1000, overlap_fraction=0.5)\n",
    "data_test3_set_o2 = create_overlapping_sets(data_test3_o2, set_size=1000, overlap_fraction=0.5)"
   ]
  },
  {
   "cell_type": "code",
   "execution_count": 6,
   "metadata": {},
   "outputs": [
    {
     "name": "stdout",
     "output_type": "stream",
     "text": [
      "Combined data shape: (83, 363)\n",
      "Labels shape: (83,)\n"
     ]
    }
   ],
   "source": [
    "# Process each dataset\n",
    "data1_fft_oz = process_data(data_test1_set_oz)\n",
    "data1_fft_o1 = process_data(data_test1_set_o1)\n",
    "data1_fft_o2 = process_data(data_test1_set_o2)\n",
    "\n",
    "data2_fft_oz = process_data(data_test2_set_oz)\n",
    "data2_fft_o1 = process_data(data_test2_set_o1)\n",
    "data2_fft_o2 = process_data(data_test2_set_o2)\n",
    "\n",
    "data3_fft_oz = process_data(data_test3_set_oz)\n",
    "data3_fft_o1 = process_data(data_test3_set_o1)\n",
    "data3_fft_o2 = process_data(data_test3_set_o2)\n",
    "\n",
    "# Combine the data\n",
    "combined_data1 = np.hstack((data1_fft_oz, data1_fft_o1, data1_fft_o2))\n",
    "combined_data2 = np.hstack((data2_fft_oz, data2_fft_o1, data2_fft_o2))\n",
    "combined_data3 = np.hstack((data3_fft_oz, data3_fft_o1, data3_fft_o2))\n",
    "\n",
    "# Combine all data\n",
    "combined_test = np.vstack((combined_data1, combined_data2, combined_data3))\n",
    "\n",
    "# Create labels for each class\n",
    "labels_test = np.array([0]*len(data1_fft_oz) + [1]*len(data2_fft_oz) + [2]*len(data3_fft_oz))\n",
    "\n",
    "# Check that the combined data and labels have the correct shape\n",
    "print(f\"Combined data shape: {combined_test.shape}\")\n",
    "print(f\"Labels shape: {labels_test.shape}\")"
   ]
  },
  {
   "cell_type": "code",
   "execution_count": 7,
   "metadata": {},
   "outputs": [
    {
     "ename": "NameError",
     "evalue": "name 'cca' is not defined",
     "output_type": "error",
     "traceback": [
      "\u001b[1;31m---------------------------------------------------------------------------\u001b[0m",
      "\u001b[1;31mNameError\u001b[0m                                 Traceback (most recent call last)",
      "Cell \u001b[1;32mIn[7], line 1\u001b[0m\n\u001b[1;32m----> 1\u001b[0m processed_new_data_cca \u001b[38;5;241m=\u001b[39m cca\u001b[38;5;241m.\u001b[39mtransform(combined_test)\n",
      "\u001b[1;31mNameError\u001b[0m: name 'cca' is not defined"
     ]
    }
   ],
   "source": [
    "processed_new_data_cca = cca.transform(combined_test)"
   ]
  },
  {
   "cell_type": "code",
   "execution_count": null,
   "metadata": {},
   "outputs": [],
   "source": []
  }
 ],
 "metadata": {
  "kernelspec": {
   "display_name": "base",
   "language": "python",
   "name": "python3"
  },
  "language_info": {
   "codemirror_mode": {
    "name": "ipython",
    "version": 3
   },
   "file_extension": ".py",
   "mimetype": "text/x-python",
   "name": "python",
   "nbconvert_exporter": "python",
   "pygments_lexer": "ipython3",
   "version": "3.11.8"
  }
 },
 "nbformat": 4,
 "nbformat_minor": 2
}
