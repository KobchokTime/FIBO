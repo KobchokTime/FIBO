{
 "cells": [
  {
   "cell_type": "code",
   "execution_count": 1,
   "metadata": {},
   "outputs": [
    {
     "name": "stderr",
     "output_type": "stream",
     "text": [
      "Authorization classes are not loaded, using fake implementations.\n"
     ]
    }
   ],
   "source": [
    "import matplotlib.pyplot as plt\n",
    "import numpy as np\n",
    "import flet as ft\n",
    "import os\n",
    "import base64\n",
    "from pylsl import StreamInlet, resolve_stream\n",
    "from scipy.signal import welch, spectrogram\n",
    "import pyxdf\n",
    "from sklearn.metrics import precision_score, recall_score, f1_score, confusion_matrix\n",
    "import pandas as pd"
   ]
  },
  {
   "cell_type": "code",
   "execution_count": 2,
   "metadata": {},
   "outputs": [],
   "source": [
    "import pyxdf\n",
    "import os\n",
    "import numpy as np\n",
    "\n",
    "def concat_data(frequency):\n",
    "    # โฟลเดอร์ที่เก็บข้อมูล\n",
    "    data_folder = f'../../../data_ssvep/Toey/SSVEP_data/{frequency}/'\n",
    "\n",
    "    # เก็บข้อมูลจากทุกไฟล์ในโฟลเดอร์\n",
    "    all_data = []\n",
    "    for file_name in os.listdir(data_folder):\n",
    "        file_path = os.path.join(data_folder, file_name)\n",
    "        streams, _ = pyxdf.load_xdf(file_path)\n",
    "        raw_data = streams[0][\"time_series\"].T\n",
    "        all_data.append(raw_data)\n",
    "\n",
    "    # แปลงเป็น NumPy array และรวมข้อมูลด้วย np.concatenate\n",
    "    all_data_array = np.concatenate(all_data, axis=1)\n",
    "\n",
    "    return all_data_array\n"
   ]
  },
  {
   "cell_type": "code",
   "execution_count": 3,
   "metadata": {},
   "outputs": [
    {
     "name": "stdout",
     "output_type": "stream",
     "text": [
      "(8, 159670)\n",
      "(8, 177500)\n",
      "(8, 152760)\n"
     ]
    }
   ],
   "source": [
    "raw_data1 = concat_data('6Hz')\n",
    "print(raw_data1.shape)\n",
    "raw_data2 = concat_data('20Hz')\n",
    "print(raw_data2.shape)\n",
    "raw_data3 = concat_data('0Hz')\n",
    "print(raw_data3.shape)"
   ]
  },
  {
   "cell_type": "code",
   "execution_count": 4,
   "metadata": {},
   "outputs": [],
   "source": [
    "# streams1, header = pyxdf.load_xdf('../../../data_ssvep/Toey/SSVEP_data/6Hz/6hz_1')\n",
    "# raw_data1 = streams1[0][\"time_series\"].T #From Steam variable this query is EEG data\n",
    "# print(raw_data1.shape)\n",
    "\n",
    "# streams2, header = pyxdf.load_xdf('../../../data_ssvep/Toey/SSVEP_data/20Hz/20hz_1')\n",
    "# raw_data2 = streams2[0][\"time_series\"].T #From Steam variable this query is EEG data\n",
    "\n",
    "# streams3, header = pyxdf.load_xdf('../../../data_ssvep/Toey/SSVEP_data/0Hz/0hz_1')\n",
    "# raw_data3 = streams3[0][\"time_series\"].T #From Steam variable this query is EEG data"
   ]
  },
  {
   "cell_type": "code",
   "execution_count": 5,
   "metadata": {},
   "outputs": [],
   "source": [
    "data1 = raw_data1[0:4,:]\n",
    "data2 = raw_data2[0:4,:]\n",
    "data3 = raw_data3[0:4,:]"
   ]
  },
  {
   "cell_type": "code",
   "execution_count": 6,
   "metadata": {},
   "outputs": [
    {
     "name": "stdout",
     "output_type": "stream",
     "text": [
      "159670\n",
      "177500\n",
      "152760\n"
     ]
    }
   ],
   "source": [
    "data1_oz = data1[0] - data1[1]\n",
    "data1_o1 = data1[2] - data1[1]\n",
    "data1_o2 = data1[3] - data1[1]\n",
    "print(len(data1_o1))\n",
    "data2_oz = data2[0] - data2[1]\n",
    "data2_o1 = data2[2] - data2[1]\n",
    "data2_o2 = data2[3] - data2[1]\n",
    "print(len(data2_o1))\n",
    "data3_oz = data3[0] - data3[1]\n",
    "data3_o1 = data3[2] - data3[1]\n",
    "data3_o2 = data3[3] - data3[1]\n",
    "print(len(data3_o1))"
   ]
  },
  {
   "cell_type": "code",
   "execution_count": 7,
   "metadata": {},
   "outputs": [],
   "source": [
    "def create_overlapping_sets(data, set_size=500, overlap_fraction=0.5):\n",
    "    step = int(set_size * (1 - overlap_fraction))\n",
    "    sets = []\n",
    "    for i in range(0, len(data) - set_size + 1, step):\n",
    "        sets.append(data[i:i + set_size])\n",
    "    return sets"
   ]
  },
  {
   "cell_type": "code",
   "execution_count": 8,
   "metadata": {},
   "outputs": [],
   "source": [
    "data1_set_oz = create_overlapping_sets(data1_oz, set_size=1000, overlap_fraction=0.5)\n",
    "data1_set_o1 = create_overlapping_sets(data1_o1, set_size=1000, overlap_fraction=0.5)\n",
    "data1_set_o2 = create_overlapping_sets(data1_o2, set_size=1000, overlap_fraction=0.5)"
   ]
  },
  {
   "cell_type": "code",
   "execution_count": 9,
   "metadata": {},
   "outputs": [],
   "source": [
    "data2_set_oz = create_overlapping_sets(data2_oz, set_size=1000, overlap_fraction=0.5)\n",
    "data2_set_o1 = create_overlapping_sets(data2_o1, set_size=1000, overlap_fraction=0.5)\n",
    "data2_set_o2 = create_overlapping_sets(data2_o2, set_size=1000, overlap_fraction=0.5)"
   ]
  },
  {
   "cell_type": "code",
   "execution_count": 10,
   "metadata": {},
   "outputs": [],
   "source": [
    "data3_set_oz = create_overlapping_sets(data3_oz, set_size=1000, overlap_fraction=0.5)\n",
    "data3_set_o1 = create_overlapping_sets(data3_o1, set_size=1000, overlap_fraction=0.5)\n",
    "data3_set_o2 = create_overlapping_sets(data3_o2, set_size=1000, overlap_fraction=0.5)"
   ]
  },
  {
   "cell_type": "code",
   "execution_count": 11,
   "metadata": {},
   "outputs": [
    {
     "name": "stdout",
     "output_type": "stream",
     "text": [
      "318\n",
      "354\n",
      "304\n"
     ]
    }
   ],
   "source": [
    "print(len(data1_set_oz))\n",
    "print(len(data2_set_oz))\n",
    "print(len(data3_set_oz))\n"
   ]
  },
  {
   "cell_type": "code",
   "execution_count": 12,
   "metadata": {},
   "outputs": [],
   "source": [
    "# f, Pxx = welch(data_oz, fs=250, nperseg= 250*4)"
   ]
  },
  {
   "cell_type": "code",
   "execution_count": 13,
   "metadata": {},
   "outputs": [],
   "source": [
    "data1_fft_oz = []\n",
    "data1_fft_o1 = []\n",
    "data1_fft_o2 = []\n",
    "for i in range(len(data1_set_oz)):\n",
    "    f, Pxx = welch(data1_set_oz[i], fs=250, nperseg= 250*4)\n",
    "    data1_fft_oz.append(Pxx[0:121])\n",
    "\n",
    "    f, Pxx = welch(data1_set_o1[i], fs=250, nperseg= 250*4)\n",
    "    data1_fft_o1.append(Pxx[0:121])\n",
    "\n",
    "    f, Pxx = welch(data1_set_o2[i], fs=250, nperseg= 250*4)\n",
    "    data1_fft_o2.append(Pxx[0:121])\n"
   ]
  },
  {
   "cell_type": "code",
   "execution_count": 14,
   "metadata": {},
   "outputs": [
    {
     "name": "stdout",
     "output_type": "stream",
     "text": [
      "[ 0.    0.25  0.5   0.75  1.    1.25  1.5   1.75  2.    2.25  2.5   2.75\n",
      "  3.    3.25  3.5   3.75  4.    4.25  4.5   4.75  5.    5.25  5.5   5.75\n",
      "  6.    6.25  6.5   6.75  7.    7.25  7.5   7.75  8.    8.25  8.5   8.75\n",
      "  9.    9.25  9.5   9.75 10.   10.25 10.5  10.75 11.   11.25 11.5  11.75\n",
      " 12.   12.25 12.5  12.75 13.   13.25 13.5  13.75 14.   14.25 14.5  14.75\n",
      " 15.   15.25 15.5  15.75 16.   16.25 16.5  16.75 17.   17.25 17.5  17.75\n",
      " 18.   18.25 18.5  18.75 19.   19.25 19.5  19.75 20.   20.25 20.5  20.75\n",
      " 21.   21.25 21.5  21.75 22.   22.25 22.5  22.75 23.   23.25 23.5  23.75\n",
      " 24.   24.25 24.5  24.75 25.   25.25 25.5  25.75 26.   26.25 26.5  26.75\n",
      " 27.   27.25 27.5  27.75 28.   28.25 28.5  28.75 29.   29.25 29.5  29.75\n",
      " 30.  ]\n"
     ]
    }
   ],
   "source": [
    "print(f[0:121])"
   ]
  },
  {
   "cell_type": "code",
   "execution_count": 15,
   "metadata": {},
   "outputs": [],
   "source": [
    "data2_fft_oz = []\n",
    "data2_fft_o1 = []\n",
    "data2_fft_o2 = []\n",
    "for i in range(len(data2_set_oz)):\n",
    "    f, Pxx = welch(data2_set_oz[i], fs=250, nperseg= 250*4)\n",
    "    data2_fft_oz.append(Pxx[0:121])\n",
    "\n",
    "    f, Pxx = welch(data2_set_o1[i], fs=250, nperseg= 250*4)\n",
    "    data2_fft_o1.append(Pxx[0:121])\n",
    "\n",
    "    f, Pxx = welch(data2_set_o2[i], fs=250, nperseg= 250*4)\n",
    "    data2_fft_o2.append(Pxx[0:121])"
   ]
  },
  {
   "cell_type": "code",
   "execution_count": 16,
   "metadata": {},
   "outputs": [],
   "source": [
    "data3_fft_oz = []\n",
    "data3_fft_o1 = []\n",
    "data3_fft_o2 = []\n",
    "for i in range(len(data3_set_oz)):\n",
    "    f, Pxx = welch(data3_set_oz[i], fs=250, nperseg= 250*4)\n",
    "    data3_fft_oz.append(Pxx[0:121])\n",
    "\n",
    "    f, Pxx = welch(data3_set_o1[i], fs=250, nperseg= 250*4)\n",
    "    data3_fft_o1.append(Pxx[0:121])\n",
    "\n",
    "    f, Pxx = welch(data3_set_o2[i], fs=250, nperseg= 250*4)\n",
    "    data3_fft_o2.append(Pxx[0:121])"
   ]
  },
  {
   "cell_type": "code",
   "execution_count": 17,
   "metadata": {},
   "outputs": [
    {
     "data": {
      "text/plain": [
       "array([5.62101212e+01, 2.07679834e+03, 1.45559973e+03, 1.81169281e+02,\n",
       "       1.30902512e+02, 3.03563721e+02, 4.70408020e+02, 8.12272263e+01,\n",
       "       6.59503021e+01, 2.01141037e+02, 1.50659515e+02, 4.72148193e+02,\n",
       "       4.84287109e+02, 5.43402466e+02, 4.18605896e+02, 2.64216980e+02,\n",
       "       5.65718498e+01, 1.49185257e+01, 1.93326935e+02, 9.93174210e+01,\n",
       "       1.12788712e+02, 6.20907837e+02, 1.36915665e+02, 1.70751877e+02,\n",
       "       1.60571945e+02, 1.35247192e+02, 1.46895035e+02, 2.77591766e+02,\n",
       "       4.64770844e+02, 3.36785950e+02, 2.69532471e+02, 2.44391083e+02,\n",
       "       1.47389740e+02, 5.81184044e+01, 7.22014809e+00, 4.08149624e+00,\n",
       "       6.79062424e+01, 6.67478409e+01, 1.02844231e+02, 1.85741394e+02,\n",
       "       1.70045273e+02, 7.50744934e+01, 5.12585402e+00, 7.63814449e+00,\n",
       "       7.93225574e+00, 4.32528763e+01, 1.33898346e+02, 1.85801849e+01,\n",
       "       1.13371422e+02, 2.82942902e+02, 5.17305542e+02, 2.18609619e+02,\n",
       "       1.31584156e+00, 6.46750565e+01, 2.58129711e+01, 7.45492172e+01,\n",
       "       2.53450195e+02, 3.38144104e+02, 6.53188019e+01, 1.18590378e+02,\n",
       "       1.84711853e+02, 1.83269482e+01, 9.42756176e+00, 9.49118195e+01,\n",
       "       4.46650658e+01, 2.64100685e+01, 2.75079708e+01, 1.24238808e+02,\n",
       "       9.43034172e+00, 1.51695068e+02, 9.09526596e+01, 6.79542847e+02,\n",
       "       4.34008789e+02, 9.73185577e+01, 5.92827873e+01, 2.97307129e+02,\n",
       "       6.04685181e+02, 3.92824097e+02, 6.07956238e+02, 7.94106216e+01,\n",
       "       3.79625092e+02, 1.19642036e+02, 1.90078506e+02, 1.04474434e+02,\n",
       "       1.18616898e+02, 4.57427979e+02, 5.63487976e+02, 1.38293762e+03,\n",
       "       4.83611719e+03, 4.28271289e+03, 5.12028259e+02, 3.65496069e+03,\n",
       "       1.01188086e+03, 1.64906531e+03, 5.72431348e+03, 1.83658337e+03,\n",
       "       2.12144067e+03, 2.34278101e+03, 1.97263342e+03, 1.23332800e+03,\n",
       "       4.03337372e+02, 3.28654199e+03, 4.15733643e+03, 5.13813623e+03,\n",
       "       1.92320703e+03, 5.79286768e+03, 1.30519082e+04, 3.03825854e+03,\n",
       "       3.29818872e+03, 4.65116650e+03, 3.01247925e+03, 2.10222168e+04,\n",
       "       1.52037441e+04, 7.27210254e+03, 3.40179956e+03, 1.67610608e+03,\n",
       "       5.08001495e+02, 7.55080933e+02, 7.04074829e+02, 1.50247034e+03,\n",
       "       1.63532764e+03, 2.82526825e+02, 1.60899280e+03, 1.73986731e+03,\n",
       "       5.55239648e+03, 2.36737734e+04, 5.71229883e+03, 1.49073515e+01,\n",
       "       5.83209656e+02, 1.76998828e+03, 1.17838463e+02, 4.65146698e+02,\n",
       "       3.22972450e+01, 3.42965271e+02, 1.42646179e+02, 2.16267197e+02,\n",
       "       2.57808685e+02, 2.73527466e+02, 3.60196419e+01, 7.19762268e+01,\n",
       "       7.21574020e+01, 8.91553726e+01, 2.75317108e+02, 4.29792328e+02,\n",
       "       4.42485313e+01, 6.87450256e+01, 2.88830414e+02, 3.26912476e+02,\n",
       "       3.42607956e+01, 1.73796326e+02, 1.02922401e+01, 3.70794281e+02,\n",
       "       3.43794586e+02, 6.56989136e+01, 3.27231908e+00, 5.17154007e+01,\n",
       "       1.68171501e+01, 2.17554688e+02, 1.88787643e+02, 1.01076355e+02,\n",
       "       9.43151703e+01, 1.06733757e+02, 9.56802444e+01, 1.32106857e+01,\n",
       "       4.89690399e+01, 8.13158035e+01, 1.48404602e+02, 7.77244720e+01,\n",
       "       1.04566628e+02, 1.43258392e+02, 6.54548035e+01, 1.84619789e+01,\n",
       "       1.54720917e+02, 2.96541100e+01, 4.07645683e+01, 1.05456505e+01,\n",
       "       2.38029385e+01, 6.91922140e+00, 1.74487495e+01, 5.58470078e+01,\n",
       "       2.42447567e+01, 2.51909790e+01, 2.38905487e+01, 2.28738880e+01,\n",
       "       8.17088928e+01, 1.10532875e+02, 3.12415070e+02, 2.56229126e+02,\n",
       "       6.74320889e+00, 2.01374779e+01, 5.78966713e+01, 7.48586960e+01,\n",
       "       4.17403412e+01, 3.86746330e+01, 9.61727142e+00, 6.33034935e+01,\n",
       "       5.80621758e+01, 6.90508194e+01, 1.05384521e+03, 2.22670293e+04,\n",
       "       3.18459961e+04, 2.90898535e+03, 2.31783848e+01, 1.55128891e+02,\n",
       "       3.18198608e+02, 7.18901672e+01, 3.25064230e+00, 1.91801071e+01,\n",
       "       6.69423599e+01, 4.23151855e+01, 8.27367496e+00, 2.17549637e+02,\n",
       "       5.17413452e+02, 3.02527557e+02, 1.92907928e+02, 1.25223785e+02,\n",
       "       9.45042419e+01, 2.91650604e+02, 3.63239166e+02, 1.02399467e+02,\n",
       "       4.99993286e+01, 1.51724644e+01, 2.69282196e+02, 5.97134827e+02,\n",
       "       4.43130066e+02, 1.07871239e+02, 8.12151642e+01, 2.33455490e+02,\n",
       "       4.04245300e+02, 1.76546555e+02, 1.56243118e+02, 8.76882248e+01,\n",
       "       6.67364502e+01, 4.48781776e+01, 8.06391373e+01, 2.54411331e+02,\n",
       "       1.71349197e+02, 2.51595860e+01, 1.98530352e+00, 9.24140701e+01,\n",
       "       2.64595184e+02, 6.96270142e+01, 1.04855776e+01, 2.44566441e+00,\n",
       "       2.39013309e+01, 4.22720718e+01, 2.80433674e+01, 6.60552139e+01,\n",
       "       2.22237778e+02, 8.67613602e+01, 2.20739460e+01, 8.89210815e+01,\n",
       "       4.04827080e+01, 1.82953568e+01, 1.61636715e+01, 2.59143233e+00,\n",
       "       4.61288309e+00, 4.15670357e+01, 4.92575989e+01, 8.06830750e+01,\n",
       "       7.73004761e+01, 3.03884578e+00, 8.03473949e+00, 2.07901974e+01,\n",
       "       3.95484924e+01, 2.41980515e+01, 2.09646587e+01, 2.71737027e+00,\n",
       "       9.68988037e+01, 1.13583595e+02, 7.08403540e+00, 1.25682840e+01,\n",
       "       4.98917351e+01, 1.36437387e+01, 1.01227655e+01, 1.41524849e+01,\n",
       "       2.64772301e+01, 4.79333763e+01, 1.27638176e+02, 2.36067181e+01,\n",
       "       5.96971588e+01, 2.43465004e+01, 6.71746588e+00, 1.92748470e+01,\n",
       "       1.10888729e+01, 1.28679523e+01, 3.33028946e+01, 7.21786070e+00,\n",
       "       1.14316856e+02, 8.42741108e+00, 1.73355118e+02, 1.81053116e+02,\n",
       "       7.24052658e+01, 5.24814873e+01, 1.55154160e+02, 1.16644691e+02,\n",
       "       7.85384293e+01, 9.14093685e+00, 9.27003403e+01, 1.46229294e+02,\n",
       "       8.85078354e+01, 6.04501801e+01, 1.66328018e+02, 1.52576431e+02,\n",
       "       2.83256888e+00, 4.31373749e+02, 5.29594177e+02, 1.68039825e+02,\n",
       "       2.88321228e+02, 1.38338791e+02, 4.92108582e+02, 9.46541565e+02,\n",
       "       5.58430237e+02, 3.03105438e+02, 1.35453201e+02, 1.75877502e+02,\n",
       "       2.90444050e+01, 4.16288757e+01, 6.52879105e+01, 3.34828873e+01,\n",
       "       1.25095682e+01, 2.05146790e+01, 2.70248566e+01, 3.15089536e+00,\n",
       "       7.46718740e+00, 9.46558952e+00, 1.96761475e+01, 1.47429600e+01,\n",
       "       5.39648247e+00, 9.43626499e+00, 1.66169500e+00, 4.21565676e+00,\n",
       "       7.29910183e+00, 9.18873978e+00, 4.58998889e-01, 1.62430000e+00,\n",
       "       2.38874741e+01, 2.70123119e+01, 3.73076105e+00, 6.02530301e-01,\n",
       "       2.16279984e+00, 6.65745258e+00, 3.05794787e+00, 1.54075975e+01,\n",
       "       2.40885181e+01, 5.90849113e+00, 4.99449253e+00, 3.27191901e+00,\n",
       "       9.53147125e+00, 7.75533342e+00, 7.01864481e+00, 9.51080322e+00,\n",
       "       1.01767111e+01, 1.85306883e+00, 1.07582083e+01, 1.45345116e+01,\n",
       "       8.48587894e+00, 1.70045662e+01, 3.65179324e+00, 1.54446602e+01,\n",
       "       9.44420624e+00, 3.57450223e+00, 1.09028311e+01, 2.07882547e+00,\n",
       "       8.30239964e+00, 2.57804561e+00, 3.14505845e-01, 1.68352351e-01,\n",
       "       5.71761191e-01, 1.92316449e+00, 3.23122168e+00, 1.44181383e+00,\n",
       "       1.27572136e+01, 4.41232109e+00, 1.35393707e+02, 5.59410400e+02,\n",
       "       1.57107864e+02, 1.21299801e+01, 1.44967628e+00, 7.46479797e+00,\n",
       "       1.06513796e+01, 4.37961388e+00, 2.14744139e+00, 1.30477452e+00,\n",
       "       1.33686399e+00, 3.05482656e-01, 1.24534428e+00, 9.43553638e+00,\n",
       "       4.80196428e+00, 2.73757547e-01, 5.15213490e+00, 9.73849583e+00,\n",
       "       1.84339333e+01, 1.74354661e+00, 1.66890550e+00, 1.31703520e+00,\n",
       "       1.60516357e+01, 8.24019699e+01, 1.15514328e+02, 3.15842712e+02,\n",
       "       2.15848572e+02, 5.19720802e+01, 3.15572205e+01, 1.50548639e+01,\n",
       "       1.75489483e+01, 9.27856863e-02, 1.22953548e+01, 1.57874146e+01,\n",
       "       1.10893116e+01, 8.59517288e+00, 7.34968138e+00, 3.83381691e+01,\n",
       "       4.56917381e+01, 3.42869759e+01, 9.35885906e+00, 7.39694595e+00,\n",
       "       9.30662727e+00, 1.83222675e+01, 5.67308121e+01, 1.49378815e+01,\n",
       "       2.98306160e+01, 5.85738754e+01, 1.08303513e+02, 1.07366753e+02,\n",
       "       3.29073601e+01, 5.97871399e+00, 1.16805105e+01, 5.62616386e+01,\n",
       "       4.24717636e+01, 3.08590298e+01, 1.22033091e+01, 1.72525048e+00,\n",
       "       4.29736519e+00, 9.16437244e+00, 5.09653616e+00, 3.64165235e+00,\n",
       "       5.67434406e+00, 4.07952070e+00, 2.02646351e+00, 3.35609627e+00,\n",
       "       1.57760372e+01, 3.35705972e+00, 3.34345251e-01, 1.64970481e+00,\n",
       "       1.06695776e+01, 8.26413536e+00, 1.44146872e+00, 3.11590338e+00,\n",
       "       3.66296864e+00, 6.09887791e+00, 1.77020035e+01, 1.24211416e+01,\n",
       "       4.47228765e+00, 1.08528852e+00, 2.00433493e+00, 4.76127005e+00,\n",
       "       2.17306876e+00, 2.00310421e+00, 3.48187542e+00, 1.77105999e+00,\n",
       "       7.47254944e+00, 1.19564021e+00, 3.37710261e-01, 5.54300733e-02,\n",
       "       5.60713911e+00, 6.45235872e+00, 2.91658664e+00, 4.26034975e+00,\n",
       "       7.90509272e+00, 6.54057455e+00, 5.87220490e-01, 6.24227047e+00,\n",
       "       3.30709904e-01, 4.27278328e+00, 3.06929040e+00, 4.88712931e+00,\n",
       "       5.13361979e+00, 1.42277372e+00, 2.64419198e-01, 7.06191897e-01,\n",
       "       4.09263760e-01, 1.00191021e+00, 1.66358304e+00, 8.14734364e+00,\n",
       "       9.01394463e+00, 7.02226067e+00, 6.48671341e+00, 4.98668098e+00,\n",
       "       3.63091469e+00, 8.67308426e+00, 2.40979919e+01, 3.99822688e+00,\n",
       "       6.50891304e-01, 1.60003197e+00, 2.03227577e+01, 1.10272665e+01,\n",
       "       6.60069418e+00, 5.30338955e+00, 2.29034916e-01, 3.68987262e-01,\n",
       "       1.09317303e-01], dtype=float32)"
      ]
     },
     "execution_count": 17,
     "metadata": {},
     "output_type": "execute_result"
    }
   ],
   "source": [
    "Pxx"
   ]
  },
  {
   "cell_type": "code",
   "execution_count": 18,
   "metadata": {},
   "outputs": [
    {
     "name": "stdout",
     "output_type": "stream",
     "text": [
      "(304, 121)\n"
     ]
    }
   ],
   "source": [
    "data3_fft_oz = np.array(data3_fft_oz)\n",
    "data3_fft_o1 = np.array(data3_fft_o1)\n",
    "data3_fft_o2 = np.array(data3_fft_o2)\n",
    "print(data3_fft_o2.shape)"
   ]
  },
  {
   "cell_type": "code",
   "execution_count": 19,
   "metadata": {},
   "outputs": [
    {
     "name": "stderr",
     "output_type": "stream",
     "text": [
      "c:\\ProgramData\\anaconda3\\Lib\\site-packages\\tqdm\\auto.py:21: TqdmWarning: IProgress not found. Please update jupyter and ipywidgets. See https://ipywidgets.readthedocs.io/en/stable/user_install.html\n",
      "  from .autonotebook import tqdm as notebook_tqdm\n"
     ]
    },
    {
     "name": "stdout",
     "output_type": "stream",
     "text": [
      "WARNING:tensorflow:From C:\\Users\\Toey\\AppData\\Roaming\\Python\\Python311\\site-packages\\keras\\src\\losses.py:2976: The name tf.losses.sparse_softmax_cross_entropy is deprecated. Please use tf.compat.v1.losses.sparse_softmax_cross_entropy instead.\n",
      "\n",
      "(976, 363)\n"
     ]
    },
    {
     "name": "stderr",
     "output_type": "stream",
     "text": [
      "C:\\Users\\Toey\\AppData\\Roaming\\Python\\Python311\\site-packages\\umap\\umap_.py:1945: UserWarning: n_jobs value 1 overridden to 1 by setting random_state. Use no seed for parallelism.\n",
      "  warn(f\"n_jobs value {self.n_jobs} overridden to 1 by setting random_state. Use no seed for parallelism.\")\n"
     ]
    },
    {
     "data": {
      "image/png": "[encoded data removed]",
      "text/plain": [
       "<Figure size 1000x600 with 1 Axes>"
      ]
     },
     "metadata": {},
     "output_type": "display_data"
    }
   ],
   "source": [
    "import umap\n",
    "# รวมข้อมูลจากทุก feature สำหรับแต่ละ class และ flatten ข้อมูล\n",
    "combined_data1 = np.hstack((data1_fft_oz, data1_fft_o1, data1_fft_o2))\n",
    "combined_data2 = np.hstack((data2_fft_oz, data2_fft_o1, data2_fft_o2))\n",
    "combined_data3 = np.hstack((data3_fft_oz, data3_fft_o1, data3_fft_o2))\n",
    "\n",
    "# รวมข้อมูลจากทุก class เข้าด้วยกัน\n",
    "combined_data = np.vstack((combined_data1, combined_data2, combined_data3))\n",
    "\n",
    "# ตรวจสอบว่าข้อมูลมีขนาดที่ถูกต้อง\n",
    "print(combined_data.shape)  # ควรได้ (จำนวน samples ทั้งหมด, จำนวน features)\n",
    "\n",
    "# สร้าง label สำหรับแต่ละ class\n",
    "labels = np.array([0]*len(data1_fft_oz) + [1]*len(data2_fft_oz) + [2]*len(data3_fft_oz))\n",
    "\n",
    "# ทำ UMAP\n",
    "reducer = umap.UMAP(n_components=2, random_state=42, n_neighbors = 5)\n",
    "embedding = reducer.fit_transform(combined_data)\n",
    "\n",
    "# แสดงผลการลดมิติ\n",
    "plt.figure(figsize=(10, 6))\n",
    "scatter = plt.scatter(embedding[:, 0], embedding[:, 1], c=labels, cmap='Spectral', s=5)\n",
    "plt.legend(handles=scatter.legend_elements()[0], labels=['Class 1', 'Class 2', 'Class 3'])\n",
    "plt.title('UMAP projection of the dataset')\n",
    "plt.show()"
   ]
  },
  {
   "cell_type": "code",
   "execution_count": 20,
   "metadata": {},
   "outputs": [
    {
     "name": "stdout",
     "output_type": "stream",
     "text": [
      "(318, 363)\n",
      "(976,)\n",
      "(976, 2)\n"
     ]
    }
   ],
   "source": [
    "print(combined_data1.shape)\n",
    "print(labels.shape)\n",
    "print(embedding.shape)"
   ]
  },
  {
   "cell_type": "code",
   "execution_count": 21,
   "metadata": {},
   "outputs": [
    {
     "name": "stdout",
     "output_type": "stream",
     "text": [
      "         Class  Precision    Recall  F1-score  Accuracy\n",
      "0          0.0   1.000000  0.983607  0.991736  1.000000\n",
      "1          1.0   0.987179  1.000000  0.993548  0.987179\n",
      "2          2.0   1.000000  1.000000  1.000000  1.000000\n",
      "average    NaN   0.994963  0.994898  0.994893  0.994898\n"
     ]
    }
   ],
   "source": [
    "from sklearn.ensemble import RandomForestClassifier\n",
    "from sklearn.model_selection import train_test_split\n",
    "from sklearn.metrics import accuracy_score\n",
    "\n",
    "# แบ่งข้อมูลเป็น train set และ test set\n",
    "X_train, X_test, y_train, y_test = train_test_split(combined_data, labels, test_size=0.2, random_state=42)\n",
    "\n",
    "# สร้างและฝึกโมเดล Random Forest Classifier\n",
    "rf_classifier = RandomForestClassifier(n_estimators=100, random_state=42)\n",
    "rf_classifier.fit(X_train, y_train)\n",
    "\n",
    "# ทำนายบน test set\n",
    "y_pred_rf = rf_classifier.predict(X_test)\n",
    "\n",
    "precision_lda_per_class = precision_score(y_test, y_pred_rf, average=None)\n",
    "recall_lda_per_class = recall_score(y_test, y_pred_rf, average=None)\n",
    "f1_lda_per_class = f1_score(y_test, y_pred_rf, average=None)\n",
    "\n",
    "# คำนวณ accuracy ของแต่ละคลาส\n",
    "accuracy_lda_per_class = []\n",
    "for class_label in range(len(precision_lda_per_class)):\n",
    "    correct_predictions = ((y_pred_rf == class_label) & (y_test == class_label)).sum()\n",
    "    total_predictions = (y_pred_rf == class_label).sum()\n",
    "    # print(y_pred_rf)\n",
    "    accuracy = correct_predictions / total_predictions if total_predictions > 0 else 0\n",
    "    accuracy_lda_per_class.append(accuracy)\n",
    "\n",
    "# คำนวณค่าเฉลี่ยของ accuracy\n",
    "avg_accuracy_lda = accuracy_score(y_test, y_pred_rf)\n",
    "\n",
    "# เฉลี่ย precision, recall, และ F1-score ของแต่ละคลาส\n",
    "avg_precision_lda = precision_score(y_test, y_pred_rf, average='weighted')\n",
    "avg_recall_lda = recall_score(y_test, y_pred_rf, average='weighted')\n",
    "avg_f1_lda = f1_score(y_test, y_pred_rf, average='weighted')\n",
    "\n",
    "# สร้าง DataFrame จากผลลัพธ์\n",
    "results_df = pd.DataFrame({\n",
    "    'Class': range(len(precision_lda_per_class)),\n",
    "    'Precision': precision_lda_per_class,\n",
    "    'Recall': recall_lda_per_class,\n",
    "    'F1-score': f1_lda_per_class,\n",
    "    'Accuracy': accuracy_lda_per_class\n",
    "})\n",
    "\n",
    "# เพิ่มค่าเฉลี่ยของ accuracy และ precision, recall, F1-score ลงในตาราง\n",
    "results_df.loc['average'] = [None, avg_precision_lda, avg_recall_lda, avg_f1_lda, avg_accuracy_lda]\n",
    "\n",
    "print(results_df)\n"
   ]
  },
  {
   "cell_type": "code",
   "execution_count": 22,
   "metadata": {},
   "outputs": [
    {
     "name": "stdout",
     "output_type": "stream",
     "text": [
      "         Class  Precision    Recall  F1-score  Accuracy\n",
      "0          0.0   0.800000  0.852459  0.825397  0.800000\n",
      "1          1.0   0.863014  0.818182  0.840000  0.863014\n",
      "2          2.0   0.982759  0.982759  0.982759  0.982759\n",
      "average    NaN   0.878837  0.877551  0.877700  0.877551\n"
     ]
    }
   ],
   "source": [
    "from sklearn.svm import SVC\n",
    "from sklearn.model_selection import train_test_split\n",
    "from sklearn.metrics import accuracy_score\n",
    "\n",
    "# แบ่งข้อมูลเป็น train set และ test set\n",
    "X_train, X_test, y_train, y_test = train_test_split(combined_data, labels, test_size=0.2, random_state=42)\n",
    "\n",
    "# สร้างและฝึกโมเดล SVM 'poly' 'linear' 'rbf'\n",
    "svm_classifier = SVC(C=0.1, gamma=1, kernel='linear', random_state=42)\n",
    "svm_classifier.fit(X_train, y_train)\n",
    "\n",
    "# ทำนายบน test set\n",
    "y_pred_svm = svm_classifier.predict(X_test)\n",
    "\n",
    "# ประเมิน precision, recall, และ F1-score ของแต่ละคลาส\n",
    "precision_lda_per_class = precision_score(y_test, y_pred_svm, average=None)\n",
    "recall_lda_per_class = recall_score(y_test, y_pred_svm, average=None)\n",
    "f1_lda_per_class = f1_score(y_test, y_pred_svm, average=None)\n",
    "\n",
    "# คำนวณ accuracy ของแต่ละคลาส\n",
    "accuracy_lda_per_class = []\n",
    "for class_label in range(len(precision_lda_per_class)):\n",
    "    correct_predictions = ((y_pred_svm == class_label) & (y_test == class_label)).sum()\n",
    "    # print(y_test)\n",
    "    total_predictions = (y_pred_svm == class_label).sum()\n",
    "    accuracy = correct_predictions / total_predictions if total_predictions > 0 else 0\n",
    "    accuracy_lda_per_class.append(accuracy)\n",
    "\n",
    "# คำนวณค่าเฉลี่ยของ accuracy\n",
    "avg_accuracy_lda = accuracy_score(y_test, y_pred_svm)\n",
    "\n",
    "# เฉลี่ย precision, recall, และ F1-score ของแต่ละคลาส\n",
    "avg_precision_lda = precision_score(y_test, y_pred_svm, average='weighted')\n",
    "avg_recall_lda = recall_score(y_test, y_pred_svm, average='weighted')\n",
    "avg_f1_lda = f1_score(y_test, y_pred_svm, average='weighted')\n",
    "\n",
    "# สร้าง DataFrame จากผลลัพธ์\n",
    "results_df = pd.DataFrame({\n",
    "    'Class': range(len(precision_lda_per_class)),\n",
    "    'Precision': precision_lda_per_class,\n",
    "    'Recall': recall_lda_per_class,\n",
    "    'F1-score': f1_lda_per_class,\n",
    "    'Accuracy': accuracy_lda_per_class\n",
    "})\n",
    "\n",
    "# เพิ่มค่าเฉลี่ยของ accuracy และ precision, recall, F1-score ลงในตาราง\n",
    "results_df.loc['average'] = [None, avg_precision_lda, avg_recall_lda, avg_f1_lda, avg_accuracy_lda]\n",
    "\n",
    "print(results_df)\n"
   ]
  },
  {
   "cell_type": "code",
   "execution_count": 23,
   "metadata": {},
   "outputs": [
    {
     "name": "stderr",
     "output_type": "stream",
     "text": [
      "C:\\Users\\Toey\\AppData\\Roaming\\Python\\Python311\\site-packages\\sklearn\\model_selection\\_validation.py:547: FitFailedWarning: \n",
      "60 fits failed out of a total of 240.\n",
      "The score on these train-test partitions for these parameters will be set to nan.\n",
      "If these failures are not expected, you can try to debug them by setting error_score='raise'.\n",
      "\n",
      "Below are more details about the failures:\n",
      "--------------------------------------------------------------------------------\n",
      "60 fits failed with the following error:\n",
      "Traceback (most recent call last):\n",
      "  File \"C:\\Users\\Toey\\AppData\\Roaming\\Python\\Python311\\site-packages\\sklearn\\model_selection\\_validation.py\", line 895, in _fit_and_score\n",
      "    estimator.fit(X_train, y_train, **fit_params)\n",
      "  File \"C:\\Users\\Toey\\AppData\\Roaming\\Python\\Python311\\site-packages\\sklearn\\base.py\", line 1474, in wrapper\n",
      "    return fit_method(estimator, *args, **kwargs)\n",
      "           ^^^^^^^^^^^^^^^^^^^^^^^^^^^^^^^^^^^^^^\n",
      "  File \"C:\\Users\\Toey\\AppData\\Roaming\\Python\\Python311\\site-packages\\sklearn\\svm\\_base.py\", line 268, in fit\n",
      "    raise ValueError(\n",
      "ValueError: The dual coefficients or intercepts are not finite. The input data may contain large values and need to be preprocessed.\n",
      "\n",
      "  warnings.warn(some_fits_failed_message, FitFailedWarning)\n",
      "C:\\Users\\Toey\\AppData\\Roaming\\Python\\Python311\\site-packages\\sklearn\\model_selection\\_search.py:1051: UserWarning: One or more of the test scores are non-finite: [0.35512821 0.9025641         nan 0.35512821 0.9025641         nan\n",
      " 0.35512821 0.9025641         nan 0.35512821 0.9025641  0.55769231\n",
      " 0.35512821 0.9025641         nan 0.35512821 0.9025641         nan\n",
      " 0.35512821 0.9025641         nan 0.35512821 0.9025641  0.55641026\n",
      " 0.35512821 0.9025641         nan 0.35512821 0.9025641         nan\n",
      " 0.35512821 0.9025641         nan 0.35512821 0.9025641  0.55641026\n",
      " 0.35512821 0.9025641         nan 0.35512821 0.9025641         nan\n",
      " 0.35512821 0.9025641         nan 0.35512821 0.9025641  0.55641026]\n",
      "  warnings.warn(\n"
     ]
    },
    {
     "name": "stdout",
     "output_type": "stream",
     "text": [
      "Best hyperparameters: {'C': 0.1, 'gamma': 1, 'kernel': 'linear'}\n",
      "SVM Accuracy: 0.8775510204081632\n"
     ]
    }
   ],
   "source": [
    "from sklearn.svm import SVC\n",
    "from sklearn.model_selection import train_test_split, GridSearchCV\n",
    "from sklearn.metrics import accuracy_score\n",
    "\n",
    "# แบ่งข้อมูลเป็น train set และ test set\n",
    "X_train, X_test, y_train, y_test = train_test_split(combined_data, labels, test_size=0.2, random_state=42)\n",
    "\n",
    "# กำหนดช่วงของ hyperparameters ที่ต้องการทดสอบ\n",
    "param_grid = {\n",
    "    'C': [0.1, 1, 10, 100],  # regularization parameter\n",
    "    'gamma': [1, 0.1, 0.01, 0.001],  # kernel coefficient\n",
    "    'kernel': ['rbf', 'linear', 'poly']  # kernel function\n",
    "}\n",
    "\n",
    "# สร้าง GridSearchCV object\n",
    "grid_search = GridSearchCV(SVC(random_state=42), param_grid, cv=5, scoring='accuracy')\n",
    "\n",
    "# ฝึกโมเดล\n",
    "grid_search.fit(X_train, y_train)\n",
    "\n",
    "# แสดง hyperparameters ที่ดีที่สุด\n",
    "print(\"Best hyperparameters:\", grid_search.best_params_)\n",
    "\n",
    "# ทำนายบน test set\n",
    "y_pred_svm = grid_search.best_estimator_.predict(X_test)\n",
    "\n",
    "# ประเมินประสิทธิภาพของโมเดล SVM ที่ปรับ hyperparameters แล้ว\n",
    "accuracy_svm = accuracy_score(y_test, y_pred_svm)\n",
    "print(\"SVM Accuracy:\", accuracy_svm)\n"
   ]
  },
  {
   "cell_type": "code",
   "execution_count": 24,
   "metadata": {},
   "outputs": [
    {
     "name": "stdout",
     "output_type": "stream",
     "text": [
      "         Class  Precision    Recall  F1-score  Accuracy\n",
      "0          0.0   1.000000  0.967213  0.983333  1.000000\n",
      "1          1.0   0.986301  0.935065  0.960000  0.986301\n",
      "2          2.0   0.906250  1.000000  0.950820  0.906250\n",
      "average    NaN   0.966876  0.964286  0.964545  0.964286\n"
     ]
    }
   ],
   "source": [
    "from sklearn.discriminant_analysis import LinearDiscriminantAnalysis\n",
    "from sklearn.model_selection import train_test_split\n",
    "from sklearn.metrics import accuracy_score\n",
    "\n",
    "# แบ่งข้อมูลเป็น train set และ test set\n",
    "X_train, X_test, y_train, y_test = train_test_split(combined_data, labels, test_size=0.2, random_state=42)\n",
    "\n",
    "# สร้างและฝึกโมเดล LDA\n",
    "lda_classifier = LinearDiscriminantAnalysis()\n",
    "lda_classifier.fit(X_train, y_train)\n",
    "\n",
    "# ทำนายบน test set\n",
    "y_pred_lda = lda_classifier.predict(X_test)\n",
    "\n",
    "# ประเมิน precision, recall, และ F1-score ของแต่ละคลาส\n",
    "precision_lda_per_class = precision_score(y_test, y_pred_lda, average=None)\n",
    "recall_lda_per_class = recall_score(y_test, y_pred_lda, average=None)\n",
    "f1_lda_per_class = f1_score(y_test, y_pred_lda, average=None)\n",
    "\n",
    "# คำนวณ accuracy ของแต่ละคลาส\n",
    "accuracy_lda_per_class = []\n",
    "for class_label in range(len(precision_lda_per_class)):\n",
    "    correct_predictions = ((y_pred_lda == class_label) & (y_test == class_label)).sum()\n",
    "    total_predictions = (y_pred_lda == class_label).sum()\n",
    "    accuracy = correct_predictions / total_predictions if total_predictions > 0 else 0\n",
    "    accuracy_lda_per_class.append(accuracy)\n",
    "\n",
    "# คำนวณค่าเฉลี่ยของ accuracy\n",
    "avg_accuracy_lda = accuracy_score(y_test, y_pred_lda)\n",
    "\n",
    "# เฉลี่ย precision, recall, และ F1-score ของแต่ละคลาส\n",
    "avg_precision_lda = precision_score(y_test, y_pred_lda, average='weighted')\n",
    "avg_recall_lda = recall_score(y_test, y_pred_lda, average='weighted')\n",
    "avg_f1_lda = f1_score(y_test, y_pred_lda, average='weighted')\n",
    "\n",
    "# สร้าง DataFrame จากผลลัพธ์\n",
    "results_df = pd.DataFrame({\n",
    "    'Class': range(len(precision_lda_per_class)),\n",
    "    'Precision': precision_lda_per_class,\n",
    "    'Recall': recall_lda_per_class,\n",
    "    'F1-score': f1_lda_per_class,\n",
    "    'Accuracy': accuracy_lda_per_class\n",
    "})\n",
    "\n",
    "# เพิ่มค่าเฉลี่ยของ accuracy และ precision, recall, F1-score ลงในตาราง\n",
    "results_df.loc['average'] = [None, avg_precision_lda, avg_recall_lda, avg_f1_lda, avg_accuracy_lda]\n",
    "\n",
    "print(results_df)"
   ]
  },
  {
   "cell_type": "code",
   "execution_count": null,
   "metadata": {},
   "outputs": [],
   "source": []
  }
 ],
 "metadata": {
  "kernelspec": {
   "display_name": "base",
   "language": "python",
   "name": "python3"
  },
  "language_info": {
   "codemirror_mode": {
    "name": "ipython",
    "version": 3
   },
   "file_extension": ".py",
   "mimetype": "text/x-python",
   "name": "python",
   "nbconvert_exporter": "python",
   "pygments_lexer": "ipython3",
   "version": "3.11.8"
  }
 },
 "nbformat": 4,
 "nbformat_minor": 2
}
